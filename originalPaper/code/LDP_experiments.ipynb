{
 "cells": [
  {
   "cell_type": "code",
   "execution_count": 1,
   "metadata": {
    "colab": {
     "base_uri": "https://localhost:8080/"
    },
    "id": "bZff0VkNdGY8",
    "outputId": "64f7b3c5-95e3-44c5-c72e-683ec63ad6c4"
   },
   "outputs": [
    {
     "name": "stdout",
     "output_type": "stream",
     "text": [
      "Requirement already satisfied: scikit-learn in /home/piotr/Documents/studia/eksploracja/venv/lib/python3.10/site-packages (1.2.2)\n",
      "Requirement already satisfied: numpy in /home/piotr/Documents/studia/eksploracja/venv/lib/python3.10/site-packages (1.23.5)\n",
      "Requirement already satisfied: matplotlib in /home/piotr/Documents/studia/eksploracja/venv/lib/python3.10/site-packages (3.7.1)\n",
      "Requirement already satisfied: networkx in /home/piotr/Documents/studia/eksploracja/venv/lib/python3.10/site-packages (3.0)\n",
      "Requirement already satisfied: pandas in /home/piotr/Documents/studia/eksploracja/venv/lib/python3.10/site-packages (1.5.3)\n",
      "Requirement already satisfied: scipy in /home/piotr/Documents/studia/eksploracja/venv/lib/python3.10/site-packages (1.10.1)\n",
      "Requirement already satisfied: torch in /home/piotr/Documents/studia/eksploracja/venv/lib/python3.10/site-packages (1.13.1)\n",
      "Requirement already satisfied: statsmodels in /home/piotr/Documents/studia/eksploracja/venv/lib/python3.10/site-packages (0.13.5)\n",
      "Requirement already satisfied: threadpoolctl>=2.0.0 in /home/piotr/Documents/studia/eksploracja/venv/lib/python3.10/site-packages (from scikit-learn) (3.1.0)\n",
      "Requirement already satisfied: joblib>=1.1.1 in /home/piotr/Documents/studia/eksploracja/venv/lib/python3.10/site-packages (from scikit-learn) (1.2.0)\n",
      "Requirement already satisfied: cycler>=0.10 in /home/piotr/Documents/studia/eksploracja/venv/lib/python3.10/site-packages (from matplotlib) (0.11.0)\n",
      "Requirement already satisfied: pyparsing>=2.3.1 in /home/piotr/Documents/studia/eksploracja/venv/lib/python3.10/site-packages (from matplotlib) (3.0.9)\n",
      "Requirement already satisfied: fonttools>=4.22.0 in /home/piotr/Documents/studia/eksploracja/venv/lib/python3.10/site-packages (from matplotlib) (4.39.0)\n",
      "Requirement already satisfied: python-dateutil>=2.7 in /home/piotr/Documents/studia/eksploracja/venv/lib/python3.10/site-packages (from matplotlib) (2.8.2)\n",
      "Requirement already satisfied: contourpy>=1.0.1 in /home/piotr/Documents/studia/eksploracja/venv/lib/python3.10/site-packages (from matplotlib) (1.0.7)\n",
      "Requirement already satisfied: packaging>=20.0 in /home/piotr/Documents/studia/eksploracja/venv/lib/python3.10/site-packages (from matplotlib) (23.0)\n",
      "Requirement already satisfied: pillow>=6.2.0 in /home/piotr/Documents/studia/eksploracja/venv/lib/python3.10/site-packages (from matplotlib) (9.4.0)\n",
      "Requirement already satisfied: kiwisolver>=1.0.1 in /home/piotr/Documents/studia/eksploracja/venv/lib/python3.10/site-packages (from matplotlib) (1.4.4)\n",
      "Requirement already satisfied: pytz>=2020.1 in /home/piotr/Documents/studia/eksploracja/venv/lib/python3.10/site-packages (from pandas) (2022.7.1)\n",
      "Requirement already satisfied: nvidia-cublas-cu11==11.10.3.66 in /home/piotr/Documents/studia/eksploracja/venv/lib/python3.10/site-packages (from torch) (11.10.3.66)\n",
      "Requirement already satisfied: typing-extensions in /home/piotr/Documents/studia/eksploracja/venv/lib/python3.10/site-packages (from torch) (4.5.0)\n",
      "Requirement already satisfied: nvidia-cudnn-cu11==8.5.0.96 in /home/piotr/Documents/studia/eksploracja/venv/lib/python3.10/site-packages (from torch) (8.5.0.96)\n",
      "Requirement already satisfied: nvidia-cuda-runtime-cu11==11.7.99 in /home/piotr/Documents/studia/eksploracja/venv/lib/python3.10/site-packages (from torch) (11.7.99)\n",
      "Requirement already satisfied: nvidia-cuda-nvrtc-cu11==11.7.99 in /home/piotr/Documents/studia/eksploracja/venv/lib/python3.10/site-packages (from torch) (11.7.99)\n",
      "Requirement already satisfied: wheel in /home/piotr/Documents/studia/eksploracja/venv/lib/python3.10/site-packages (from nvidia-cublas-cu11==11.10.3.66->torch) (0.38.4)\n",
      "Requirement already satisfied: setuptools in /home/piotr/Documents/studia/eksploracja/venv/lib/python3.10/site-packages (from nvidia-cublas-cu11==11.10.3.66->torch) (67.4.0)\n",
      "Requirement already satisfied: patsy>=0.5.2 in /home/piotr/Documents/studia/eksploracja/venv/lib/python3.10/site-packages (from statsmodels) (0.5.3)\n",
      "Requirement already satisfied: six in /home/piotr/Documents/studia/eksploracja/venv/lib/python3.10/site-packages (from patsy>=0.5.2->statsmodels) (1.16.0)\n",
      "Note: you may need to restart the kernel to use updated packages.\n"
     ]
    }
   ],
   "source": [
    "%pip install scikit-learn numpy matplotlib networkx pandas scipy torch statsmodels\n"
   ]
  },
  {
   "cell_type": "code",
   "execution_count": 2,
   "metadata": {},
   "outputs": [
    {
     "name": "stdout",
     "output_type": "stream",
     "text": [
      "11.7\n"
     ]
    }
   ],
   "source": [
    "import torch\n",
    "print(torch.version.cuda)"
   ]
  },
  {
   "cell_type": "code",
   "execution_count": 3,
   "metadata": {},
   "outputs": [
    {
     "name": "stdout",
     "output_type": "stream",
     "text": [
      "Looking in links: https://data.pyg.org/whl/torch-1.13.0+cu117.html\n",
      "Requirement already satisfied: pyg_lib in /home/piotr/Documents/studia/eksploracja/venv/lib/python3.10/site-packages (0.1.0+pt113cu117)\n",
      "Requirement already satisfied: torch_scatter in /home/piotr/Documents/studia/eksploracja/venv/lib/python3.10/site-packages (2.1.0+pt113cu117)\n",
      "Requirement already satisfied: torch_sparse in /home/piotr/Documents/studia/eksploracja/venv/lib/python3.10/site-packages (0.6.16+pt113cu117)\n",
      "Requirement already satisfied: scipy in /home/piotr/Documents/studia/eksploracja/venv/lib/python3.10/site-packages (from torch_sparse) (1.10.1)\n",
      "Requirement already satisfied: numpy<1.27.0,>=1.19.5 in /home/piotr/Documents/studia/eksploracja/venv/lib/python3.10/site-packages (from scipy->torch_sparse) (1.23.5)\n",
      "Note: you may need to restart the kernel to use updated packages.\n"
     ]
    }
   ],
   "source": [
    "%pip install pyg_lib torch_scatter torch_sparse -f https://data.pyg.org/whl/torch-1.13.0+cu117.html\n",
    "# tu trzeba wpisać odpowiednią wersję CUDA, patrz: https://pytorch-geometric.readthedocs.io/en/latest/install/installation.html"
   ]
  },
  {
   "cell_type": "code",
   "execution_count": 4,
   "metadata": {},
   "outputs": [
    {
     "name": "stdout",
     "output_type": "stream",
     "text": [
      "Requirement already satisfied: torch-geometric in /home/piotr/Documents/studia/eksploracja/venv/lib/python3.10/site-packages (2.2.0)\n",
      "Requirement already satisfied: scikit-learn in /home/piotr/Documents/studia/eksploracja/venv/lib/python3.10/site-packages (from torch-geometric) (1.2.2)\n",
      "Requirement already satisfied: psutil>=5.8.0 in /home/piotr/Documents/studia/eksploracja/venv/lib/python3.10/site-packages (from torch-geometric) (5.9.4)\n",
      "Requirement already satisfied: tqdm in /home/piotr/Documents/studia/eksploracja/venv/lib/python3.10/site-packages (from torch-geometric) (4.65.0)\n",
      "Requirement already satisfied: pyparsing in /home/piotr/Documents/studia/eksploracja/venv/lib/python3.10/site-packages (from torch-geometric) (3.0.9)\n",
      "Requirement already satisfied: requests in /home/piotr/Documents/studia/eksploracja/venv/lib/python3.10/site-packages (from torch-geometric) (2.28.2)\n",
      "Requirement already satisfied: jinja2 in /home/piotr/Documents/studia/eksploracja/venv/lib/python3.10/site-packages (from torch-geometric) (3.1.2)\n",
      "Requirement already satisfied: scipy in /home/piotr/Documents/studia/eksploracja/venv/lib/python3.10/site-packages (from torch-geometric) (1.10.1)\n",
      "Requirement already satisfied: numpy in /home/piotr/Documents/studia/eksploracja/venv/lib/python3.10/site-packages (from torch-geometric) (1.23.5)\n",
      "Requirement already satisfied: MarkupSafe>=2.0 in /home/piotr/Documents/studia/eksploracja/venv/lib/python3.10/site-packages (from jinja2->torch-geometric) (2.1.2)\n",
      "Requirement already satisfied: urllib3<1.27,>=1.21.1 in /home/piotr/Documents/studia/eksploracja/venv/lib/python3.10/site-packages (from requests->torch-geometric) (1.26.14)\n",
      "Requirement already satisfied: certifi>=2017.4.17 in /home/piotr/Documents/studia/eksploracja/venv/lib/python3.10/site-packages (from requests->torch-geometric) (2022.12.7)\n",
      "Requirement already satisfied: idna<4,>=2.5 in /home/piotr/Documents/studia/eksploracja/venv/lib/python3.10/site-packages (from requests->torch-geometric) (3.4)\n",
      "Requirement already satisfied: charset-normalizer<4,>=2 in /home/piotr/Documents/studia/eksploracja/venv/lib/python3.10/site-packages (from requests->torch-geometric) (3.1.0)\n",
      "Requirement already satisfied: threadpoolctl>=2.0.0 in /home/piotr/Documents/studia/eksploracja/venv/lib/python3.10/site-packages (from scikit-learn->torch-geometric) (3.1.0)\n",
      "Requirement already satisfied: joblib>=1.1.1 in /home/piotr/Documents/studia/eksploracja/venv/lib/python3.10/site-packages (from scikit-learn->torch-geometric) (1.2.0)\n",
      "Note: you may need to restart the kernel to use updated packages.\n"
     ]
    }
   ],
   "source": [
    "%pip install torch-geometric"
   ]
  },
  {
   "cell_type": "code",
   "execution_count": 5,
   "metadata": {},
   "outputs": [],
   "source": [
    "from torch_geometric.datasets import TUDataset\n",
    "\n",
    "ROOT_DATA_PATH = \"../data\"\n",
    "\n",
    "imdb_binary_dataset = TUDataset(root=ROOT_DATA_PATH, name=\"IMDB-BINARY\")\n",
    "imdb_multi_dataset = TUDataset(root=ROOT_DATA_PATH, name=\"IMDB-MULTI\")\n",
    "reddit_binary_dataset = TUDataset(root=ROOT_DATA_PATH, name=\"REDDIT-BINARY\")\n",
    "reddit_multi_5k_dataset = TUDataset(root=ROOT_DATA_PATH, name=\"REDDIT-MULTI-5K\")\n",
    "reddit_multi_12k_dataset = TUDataset(root=ROOT_DATA_PATH, name=\"REDDIT-MULTI-12K\")\n",
    "\n",
    "# do pobrania jeszcze dataset z cząsteczkami stąd: https://ogb.stanford.edu/docs/graphprop/#pyg"
   ]
  },
  {
   "cell_type": "code",
   "execution_count": 6,
   "metadata": {},
   "outputs": [],
   "source": [
    "HYPERPARAMS = {\n",
    "    'n_bin': 30,  # number of bins for historgram\n",
    "    'norm_flag': 'no',  # normalize before calling function_basis versus normalize after\n",
    "    'nonlinear_flag': 'True',  # SVM linear kernel versus nonlinear kernel\n",
    "    'uniform_flag': True,  # unform versus log scale. True for imdb, False for reddit.\n",
    "    'cdf_flag': True,  # cdf versus pdf. True for most dataset.\n",
    "    'his_norm_flag': 'yes'\n",
    "}"
   ]
  },
  {
   "cell_type": "code",
   "execution_count": 7,
   "metadata": {},
   "outputs": [
    {
     "name": "stdout",
     "output_type": "stream",
     "text": [
      "Loading graph from dataset imdb_binary\n",
      "#\n",
      "#\n",
      "#\n",
      "#\n",
      "#\n",
      "#\n",
      "#\n",
      "#\n",
      "#\n",
      "#\n",
      "#\n",
      "#\n",
      "#\n",
      "#\n",
      "#\n",
      "#\n",
      "#\n",
      "#\n",
      "#\n",
      "#\n",
      "Number of bins are 30\n",
      "the shape after removing zero columns is  (1000, 145)\n",
      "imdb_binary\n",
      "Evaluating with SVM\n",
      "[0.77 0.73 0.75 0.78 0.69 0.69 0.67 0.76 0.74 0.69]\n",
      "[0.72 0.77 0.69 0.73 0.74 0.64 0.79 0.69 0.76 0.78]\n",
      "[0.71 0.73 0.73 0.69 0.7  0.73 0.75 0.74 0.76 0.77]\n",
      "[0.71 0.72 0.74 0.71 0.8  0.71 0.67 0.69 0.76 0.71]\n",
      "[0.71 0.75 0.78 0.73 0.77 0.71 0.7  0.7  0.69 0.73]\n",
      "[0.77 0.74 0.68 0.77 0.73 0.72 0.81 0.72 0.65 0.64]\n",
      "[0.7  0.68 0.75 0.68 0.79 0.71 0.73 0.67 0.78 0.66]\n",
      "[0.73 0.71 0.73 0.81 0.68 0.76 0.7  0.73 0.64 0.72]\n",
      "[0.74 0.79 0.66 0.76 0.69 0.74 0.77 0.76 0.7  0.67]\n",
      "[0.68 0.66 0.8  0.7  0.78 0.75 0.75 0.7  0.72 0.76]\n",
      "mean is 0.7254999999999999, std is 0.00490407993409567 \n",
      "'evaluate_svm'  6.45 s\n"
     ]
    }
   ],
   "source": [
    "from main import evaluate\n",
    "\n",
    "evaluate(dataset=\"imdb_binary\", classifier='svm', baseline='ldp', hyperparams=HYPERPARAMS)"
   ]
  },
  {
   "cell_type": "code",
   "execution_count": 8,
   "metadata": {},
   "outputs": [
    {
     "name": "stdout",
     "output_type": "stream",
     "text": [
      "Loading graph from dataset imdb_binary\n",
      "#\n",
      "#\n",
      "#\n",
      "#\n",
      "#\n",
      "#\n",
      "#\n",
      "#\n",
      "#\n",
      "#\n",
      "#\n",
      "#\n",
      "#\n",
      "#\n",
      "#\n",
      "#\n",
      "#\n",
      "#\n",
      "#\n",
      "#\n",
      "Number of bins are 30\n",
      "the shape after removing zero columns is  (1000, 145)\n",
      "Evaluating with Random Forest\n",
      "Accuracy: 0.665\n"
     ]
    }
   ],
   "source": [
    "evaluate(dataset=\"imdb_binary\", classifier='random_forest', baseline='ldp', hyperparams=HYPERPARAMS)"
   ]
  },
  {
   "cell_type": "code",
   "execution_count": 9,
   "metadata": {},
   "outputs": [
    {
     "name": "stdout",
     "output_type": "stream",
     "text": [
      "READ GRAPH\n",
      "GRAPH READED\n",
      "#\n",
      "#\n",
      "#\n",
      "#\n",
      "#\n",
      "#\n",
      "#\n",
      "#\n",
      "#\n",
      "#\n",
      "#\n",
      "#\n",
      "#\n",
      "#\n",
      "#\n",
      "#\n",
      "#\n",
      "#\n",
      "#\n",
      "#\n",
      "Number of bins are 30\n",
      "the shape after removing zero columns is  (1000, 145)\n",
      "IMDB-BINARY\n",
      "No best SVM params found for IMDB-BINARY, using defaults.\n",
      "Evaluating with SVM\n",
      "[0.77 0.73 0.75 0.78 0.69 0.69 0.67 0.76 0.74 0.69]\n",
      "[0.72 0.77 0.69 0.73 0.74 0.64 0.79 0.69 0.76 0.78]\n",
      "[0.71 0.73 0.73 0.69 0.7  0.73 0.75 0.74 0.76 0.77]\n",
      "[0.71 0.72 0.74 0.71 0.8  0.71 0.67 0.69 0.76 0.71]\n",
      "[0.71 0.75 0.78 0.73 0.77 0.71 0.7  0.7  0.69 0.73]\n",
      "[0.77 0.74 0.68 0.77 0.73 0.72 0.81 0.72 0.65 0.64]\n",
      "[0.7  0.68 0.75 0.68 0.79 0.71 0.73 0.67 0.78 0.66]\n",
      "[0.73 0.71 0.73 0.81 0.68 0.76 0.7  0.73 0.64 0.72]\n",
      "[0.74 0.79 0.66 0.76 0.69 0.74 0.77 0.76 0.7  0.67]\n",
      "[0.68 0.66 0.8  0.7  0.78 0.75 0.75 0.7  0.72 0.76]\n",
      "mean is 0.7254999999999999, std is 0.00490407993409567 \n",
      "'evaluate_svm'  5.81 s\n"
     ]
    }
   ],
   "source": [
    "evaluate(dataset=\"IMDB-BINARY\", classifier='svm', baseline='ldp', hyperparams=HYPERPARAMS)"
   ]
  },
  {
   "cell_type": "code",
   "execution_count": 10,
   "metadata": {},
   "outputs": [
    {
     "name": "stdout",
     "output_type": "stream",
     "text": [
      "READ GRAPH\n",
      "GRAPH READED\n",
      "#\n",
      "#\n",
      "#\n",
      "#\n",
      "#\n",
      "#\n",
      "#\n",
      "#\n",
      "#\n",
      "#\n",
      "#\n",
      "#\n",
      "#\n",
      "#\n",
      "#\n",
      "#\n",
      "#\n",
      "#\n",
      "#\n",
      "#\n",
      "Number of bins are 30\n",
      "the shape after removing zero columns is  (1000, 145)\n",
      "Evaluating with Random Forest\n",
      "Accuracy: 0.69\n"
     ]
    }
   ],
   "source": [
    "evaluate(dataset=\"IMDB-BINARY\", classifier='random_forest', baseline='ldp', hyperparams=HYPERPARAMS)"
   ]
  }
 ],
 "metadata": {
  "colab": {
   "provenance": []
  },
  "kernelspec": {
   "display_name": "Python 3 (ipykernel)",
   "language": "python",
   "name": "python3"
  },
  "language_info": {
   "codemirror_mode": {
    "name": "ipython",
    "version": 3
   },
   "file_extension": ".py",
   "mimetype": "text/x-python",
   "name": "python",
   "nbconvert_exporter": "python",
   "pygments_lexer": "ipython3",
   "version": "3.10.6"
  }
 },
 "nbformat": 4,
 "nbformat_minor": 1
}
