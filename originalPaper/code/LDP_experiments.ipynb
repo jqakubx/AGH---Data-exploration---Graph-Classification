{
 "cells": [
  {
   "cell_type": "code",
   "execution_count": 1,
   "metadata": {
    "colab": {
     "base_uri": "https://localhost:8080/"
    },
    "id": "bZff0VkNdGY8",
    "outputId": "64f7b3c5-95e3-44c5-c72e-683ec63ad6c4"
   },
   "outputs": [],
   "source": [
    "#%pip install scikit-learn numpy matplotlib networkx pandas scipy torch statsmodels\n"
   ]
  },
  {
   "cell_type": "code",
   "execution_count": 7,
   "metadata": {},
   "outputs": [
    {
     "name": "stdout",
     "output_type": "stream",
     "text": [
      "None\n"
     ]
    }
   ],
   "source": [
    "import torch\n",
    "print(torch.version.cuda)"
   ]
  },
  {
   "cell_type": "code",
   "execution_count": 8,
   "metadata": {},
   "outputs": [],
   "source": [
    "# %pip install pyg_lib torch_scatter torch_sparse -f https://data.pyg.org/whl/torch-1.13.0+cu117.html\n",
    "# tu trzeba wpisać odpowiednią wersję CUDA, patrz: https://pytorch-geometric.readthedocs.io/en/latest/install/installation.html"
   ]
  },
  {
   "cell_type": "code",
   "execution_count": 9,
   "metadata": {},
   "outputs": [],
   "source": [
    "# %pip install torch-geometric"
   ]
  },
  {
   "cell_type": "code",
   "execution_count": 10,
   "metadata": {},
   "outputs": [],
   "source": [
    "# from torch_geometric.datasets import TUDataset\n",
    "\n",
    "# ROOT_DATA_PATH = \"../data\"\n",
    "\n",
    "# # Social networks\n",
    "# imdb_binary_dataset = TUDataset(root=ROOT_DATA_PATH, name=\"IMDB-BINARY\")\n",
    "# imdb_multi_dataset = TUDataset(root=ROOT_DATA_PATH, name=\"IMDB-MULTI\")\n",
    "# reddit_binary_dataset = TUDataset(root=ROOT_DATA_PATH, name=\"REDDIT-BINARY\")\n",
    "# reddit_multi_5k_dataset = TUDataset(root=ROOT_DATA_PATH, name=\"REDDIT-MULTI-5K\")\n",
    "# reddit_multi_12k_dataset = TUDataset(root=ROOT_DATA_PATH, name=\"REDDIT-MULTI-12K\")\n",
    "# collab_dataset = TUDataset(root=ROOT_DATA_PATH, name=\"COLLAB\")\n",
    "# # Bioinformatics\n",
    "# enzymes_dataset = TUDataset(root=ROOT_DATA_PATH, name=\"ENZYMES\")\n",
    "# proteins_dataset = TUDataset(root=ROOT_DATA_PATH, name=\"PROTEINS\")\n",
    "# # Small molecules\n",
    "# aids_dataset = TUDataset(root=ROOT_DATA_PATH, name=\"AIDS\")\n",
    "# # Computer vision\n",
    "# coildeg_dataset = TUDataset(root=ROOT_DATA_PATH, name=\"COIL-DEL\")\n",
    "# # Synthetic\n",
    "# synthetic_dataset = TUDataset(root=ROOT_DATA_PATH, name=\"SYNTHETIC\")\n",
    "\n",
    "\n",
    "# # do pobrania jeszcze dataset z cząsteczkami stąd: https://ogb.stanford.edu/docs/graphprop/#pyg"
   ]
  },
  {
   "cell_type": "code",
   "execution_count": 11,
   "metadata": {},
   "outputs": [],
   "source": [
    "HYPERPARAMS = {\n",
    "    'n_bin': 30,  # number of bins for historgram\n",
    "    'norm_flag': 'no',  # normalize before calling function_basis versus normalize after\n",
    "    'nonlinear_flag': 'True',  # SVM linear kernel versus nonlinear kernel\n",
    "    'uniform_flag': True,  # unform versus log scale. True for imdb, False for reddit.\n",
    "    'cdf_flag': True,  # cdf versus pdf. True for most dataset.\n",
    "    'his_norm_flag': 'yes'\n",
    "}"
   ]
  },
  {
   "cell_type": "code",
   "execution_count": 12,
   "outputs": [],
   "source": [
    "from main import evaluate"
   ],
   "metadata": {
    "collapsed": false
   }
  },
  {
   "cell_type": "code",
   "execution_count": null,
   "metadata": {},
   "outputs": [],
   "source": [
    "evaluate(dataset=\"imdb_binary\", classifier='svm', baseline='ldp', hyperparams=HYPERPARAMS)"
   ]
  },
  {
   "cell_type": "code",
   "execution_count": 8,
   "metadata": {},
   "outputs": [],
   "source": [
    "# evaluate(dataset=\"imdb_binary\", classifier='svm', baseline='graph_invariants', hyperparams=HYPERPARAMS)"
   ]
  },
  {
   "cell_type": "code",
   "execution_count": 7,
   "metadata": {},
   "outputs": [
    {
     "name": "stdout",
     "output_type": "stream",
     "text": [
      "==========\n",
      "EVALUATION\n",
      "==========\n",
      "Classifier: svm\n",
      "Baseline: ldp_extended\n",
      "Dataset: imdb_binary\n",
      "---------------------\n"
     ]
    },
    {
     "name": "stderr",
     "output_type": "stream",
     "text": [
      "C:\\Users\\Jakub\\Desktop\\Studia\\StudiaMagisterskie\\1Semestr\\EksploracjaDanych\\Project\\AGH---Data-exploration---Graph-Classification\\originalPaper\\code\\graph.py:89: RuntimeWarning: Precision loss occurred in moment calculation due to catastrophic cancellation. This occurs when the data are nearly identical. Results may be unreliable.\n",
      "  agg_val = agg_func(neighbors_descr)\n"
     ]
    },
    {
     "name": "stdout",
     "output_type": "stream",
     "text": [
      "imdb_binary\n"
     ]
    },
    {
     "name": "stderr",
     "output_type": "stream",
     "text": [
      "\n",
      "KeyboardInterrupt\n",
      "\n"
     ]
    }
   ],
   "source": [
    "from main import evaluate\n",
    "\n",
    "evaluate(dataset=\"imdb_binary\", classifier='svm', baseline='ldp_extended', hyperparams=HYPERPARAMS)"
   ]
  },
  {
   "cell_type": "code",
   "execution_count": 10,
   "metadata": {},
   "outputs": [
    {
     "name": "stdout",
     "output_type": "stream",
     "text": [
      "LDP x: (1000, 145), y: (1000,)\n"
     ]
    },
    {
     "name": "stderr",
     "output_type": "stream",
     "text": [
      "/home/piotr/Documents/studia/eksploracja/projekt/AGH---Data-exploration---Graph-Classification/originalPaper/code/graph.py:89: RuntimeWarning: Precision loss occurred in moment calculation due to catastrophic cancellation. This occurs when the data are nearly identical. Results may be unreliable.\n",
      "  agg_val = agg_func(neighbors_descr)\n"
     ]
    },
    {
     "name": "stdout",
     "output_type": "stream",
     "text": [
      "LDP Extended x: (1000, 775), y: (1000,)\n",
      "Graph invariants x: (1000, 4), y: (1000,)\n"
     ]
    }
   ],
   "source": [
    "from graph import load_graph\n",
    "from main import convert_graphs_to_vectors\n",
    "\n",
    "dataset = 'imdb_binary'\n",
    "\n",
    "graphs, labels = load_graph(dataset)\n",
    "\n",
    "x_ldp, y_ldp = convert_graphs_to_vectors(dataset, graphs, labels, baseline='ldp', hyperparams=HYPERPARAMS)\n",
    "\n",
    "print(f\"LDP x: {x_ldp.shape}, y: {y_ldp.shape}\")\n",
    "\n",
    "x_ldp_ex, y_ldp_ex = convert_graphs_to_vectors(dataset, graphs, labels, baseline='ldp_extended', hyperparams=HYPERPARAMS)\n",
    "\n",
    "print(f\"LDP Extended x: {x_ldp_ex.shape}, y: {y_ldp_ex.shape}\")\n",
    "\n",
    "x_invars, y_invars = convert_graphs_to_vectors(dataset, graphs, labels, baseline='graph_invariants', hyperparams=HYPERPARAMS)\n",
    "\n",
    "print(f\"Graph invariants x: {x_invars.shape}, y: {y_invars.shape}\")"
   ]
  },
  {
   "cell_type": "code",
   "execution_count": 11,
   "metadata": {},
   "outputs": [
    {
     "name": "stdout",
     "output_type": "stream",
     "text": [
      "==========\n",
      "EVALUATION\n",
      "==========\n",
      "Classifier: random_forest\n",
      "Baseline: ldp\n",
      "Dataset: imdb_binary\n",
      "---------------------\n",
      "Cross val score accuracy: 0.7265999999999999\n",
      "Cross val score f1: 0.7259219015060159\n",
      "Holdout Accuracy: 0.7209999999999999\n",
      "Holdout F1 score: 0.7210196718653511\n"
     ]
    }
   ],
   "source": [
    "evaluate(dataset=\"imdb_binary\", classifier='random_forest', baseline='ldp', hyperparams=HYPERPARAMS)"
   ]
  },
  {
   "cell_type": "code",
   "execution_count": null,
   "metadata": {},
   "outputs": [],
   "source": []
  },
  {
   "cell_type": "code",
   "execution_count": 12,
   "metadata": {},
   "outputs": [
    {
     "name": "stdout",
     "output_type": "stream",
     "text": [
      "==========\n",
      "EVALUATION\n",
      "==========\n",
      "Classifier: random_forest\n",
      "Baseline: ldp\n",
      "Dataset: IMDB-BINARY\n",
      "---------------------\n",
      "Cross val score accuracy: 0.7293999999999999\n",
      "Cross val score f1: 0.727161134640198\n",
      "Holdout Accuracy: 0.721\n",
      "Holdout F1 score: 0.7209145618569598\n"
     ]
    }
   ],
   "source": [
    "evaluate(dataset=\"IMDB-BINARY\", classifier='random_forest', baseline='ldp', hyperparams=HYPERPARAMS)"
   ]
  },
  {
   "cell_type": "code",
   "execution_count": 13,
   "metadata": {},
   "outputs": [
    {
     "name": "stdout",
     "output_type": "stream",
     "text": [
      "==========\n",
      "EVALUATION\n",
      "==========\n",
      "Classifier: random_forest\n",
      "Baseline: ldp_extended\n",
      "Dataset: imdb_binary\n",
      "---------------------\n"
     ]
    },
    {
     "name": "stderr",
     "output_type": "stream",
     "text": [
      "/home/piotr/Documents/studia/eksploracja/projekt/AGH---Data-exploration---Graph-Classification/originalPaper/code/graph.py:89: RuntimeWarning: Precision loss occurred in moment calculation due to catastrophic cancellation. This occurs when the data are nearly identical. Results may be unreliable.\n",
      "  agg_val = agg_func(neighbors_descr)\n"
     ]
    },
    {
     "name": "stdout",
     "output_type": "stream",
     "text": [
      "Cross val score accuracy: 0.724\n",
      "Cross val score f1: 0.7221525021413925\n",
      "Holdout Accuracy: 0.7209999999999999\n",
      "Holdout F1 score: 0.7214271572396717\n"
     ]
    }
   ],
   "source": [
    "evaluate(dataset=\"imdb_binary\", classifier='random_forest', baseline='ldp_extended', hyperparams=HYPERPARAMS)"
   ]
  },
  {
   "cell_type": "code",
   "execution_count": 20,
   "metadata": {},
   "outputs": [
    {
     "name": "stdout",
     "output_type": "stream",
     "text": [
      "==========\n",
      "EVALUATION\n",
      "==========\n",
      "Classifier: random_forest\n",
      "Baseline: ldp\n",
      "Dataset: AIDS\n",
      "---------------------\n"
     ]
    },
    {
     "ename": "ValueError",
     "evalue": "max() arg is an empty sequence",
     "output_type": "error",
     "traceback": [
      "\u001B[1;31m---------------------------------------------------------------------------\u001B[0m",
      "\u001B[1;31mValueError\u001B[0m                                Traceback (most recent call last)",
      "Cell \u001B[1;32mIn[20], line 1\u001B[0m\n\u001B[1;32m----> 1\u001B[0m \u001B[43mevaluate\u001B[49m\u001B[43m(\u001B[49m\u001B[43mdataset\u001B[49m\u001B[38;5;241;43m=\u001B[39;49m\u001B[38;5;124;43m\"\u001B[39;49m\u001B[38;5;124;43mAIDS\u001B[39;49m\u001B[38;5;124;43m\"\u001B[39;49m\u001B[43m,\u001B[49m\u001B[43m \u001B[49m\u001B[43mclassifier\u001B[49m\u001B[38;5;241;43m=\u001B[39;49m\u001B[38;5;124;43m'\u001B[39;49m\u001B[38;5;124;43mrandom_forest\u001B[39;49m\u001B[38;5;124;43m'\u001B[39;49m\u001B[43m,\u001B[49m\u001B[43m \u001B[49m\u001B[43mbaseline\u001B[49m\u001B[38;5;241;43m=\u001B[39;49m\u001B[38;5;124;43m'\u001B[39;49m\u001B[38;5;124;43mldp\u001B[39;49m\u001B[38;5;124;43m'\u001B[39;49m\u001B[43m,\u001B[49m\u001B[43m \u001B[49m\u001B[43mhyperparams\u001B[49m\u001B[38;5;241;43m=\u001B[39;49m\u001B[43mHYPERPARAMS\u001B[49m\u001B[43m)\u001B[49m\n",
      "File \u001B[1;32m~\\Desktop\\Studia\\StudiaMagisterskie\\1Semestr\\EksploracjaDanych\\Project\\AGH---Data-exploration---Graph-Classification\\originalPaper\\code\\main.py:28\u001B[0m, in \u001B[0;36mevaluate\u001B[1;34m(dataset, classifier, baseline, hyperparams)\u001B[0m\n\u001B[0;32m     26\u001B[0m \u001B[38;5;28;01melse\u001B[39;00m:\n\u001B[0;32m     27\u001B[0m     graphs, labels \u001B[38;5;241m=\u001B[39m load_graph_tudataset(dataset)\n\u001B[1;32m---> 28\u001B[0m x, y \u001B[38;5;241m=\u001B[39m \u001B[43mconvert_graphs_to_vectors\u001B[49m\u001B[43m(\u001B[49m\u001B[43mdataset\u001B[49m\u001B[43m,\u001B[49m\u001B[43m \u001B[49m\u001B[43mgraphs\u001B[49m\u001B[43m,\u001B[49m\u001B[43m \u001B[49m\u001B[43mlabels\u001B[49m\u001B[43m,\u001B[49m\u001B[43m \u001B[49m\u001B[43mbaseline\u001B[49m\u001B[43m,\u001B[49m\u001B[43m \u001B[49m\u001B[43mhyperparams\u001B[49m\u001B[38;5;241;43m=\u001B[39;49m\u001B[43mhyperparams\u001B[49m\u001B[43m)\u001B[49m\n\u001B[0;32m     29\u001B[0m evaluate_with_classifier(classifier, dataset, x, y)\n\u001B[0;32m     30\u001B[0m end \u001B[38;5;241m=\u001B[39m time\u001B[38;5;241m.\u001B[39mtime()\n",
      "File \u001B[1;32m~\\Desktop\\Studia\\StudiaMagisterskie\\1Semestr\\EksploracjaDanych\\Project\\AGH---Data-exploration---Graph-Classification\\originalPaper\\code\\main.py:35\u001B[0m, in \u001B[0;36mconvert_graphs_to_vectors\u001B[1;34m(dataset, graphs, labels, baseline, hyperparams)\u001B[0m\n\u001B[0;32m     33\u001B[0m \u001B[38;5;28;01mdef\u001B[39;00m \u001B[38;5;21mconvert_graphs_to_vectors\u001B[39m(dataset, graphs, labels, baseline, hyperparams):\n\u001B[0;32m     34\u001B[0m     \u001B[38;5;28;01mif\u001B[39;00m baseline \u001B[38;5;241m==\u001B[39m \u001B[38;5;124m'\u001B[39m\u001B[38;5;124mldp\u001B[39m\u001B[38;5;124m'\u001B[39m:\n\u001B[1;32m---> 35\u001B[0m         \u001B[38;5;28;01mreturn\u001B[39;00m \u001B[43mconvert_to_vectors_ldp\u001B[49m\u001B[43m(\u001B[49m\u001B[43mgraphs\u001B[49m\u001B[43m,\u001B[49m\u001B[43m \u001B[49m\u001B[43mlabels\u001B[49m\u001B[43m,\u001B[49m\u001B[43m \u001B[49m\u001B[43mhyperparams\u001B[49m\u001B[43m)\u001B[49m\n\u001B[0;32m     36\u001B[0m     \u001B[38;5;28;01melif\u001B[39;00m baseline \u001B[38;5;241m==\u001B[39m \u001B[38;5;124m'\u001B[39m\u001B[38;5;124mgraph_invariants\u001B[39m\u001B[38;5;124m'\u001B[39m:\n\u001B[0;32m     37\u001B[0m         \u001B[38;5;28;01mreturn\u001B[39;00m convert_to_vectors_graph_invariants(graphs, labels)\n",
      "File \u001B[1;32m~\\Desktop\\Studia\\StudiaMagisterskie\\1Semestr\\EksploracjaDanych\\Project\\AGH---Data-exploration---Graph-Classification\\originalPaper\\code\\baselines.py:63\u001B[0m, in \u001B[0;36mconvert_to_vectors_ldp\u001B[1;34m(graphs, labels, hyperparams, extended)\u001B[0m\n\u001B[0;32m     61\u001B[0m feature_keys \u001B[38;5;241m=\u001B[39m get_all_feature_keys(node_descriptors, aggregators)\n\u001B[0;32m     62\u001B[0m \u001B[38;5;28;01mif\u001B[39;00m norm_flag \u001B[38;5;241m==\u001B[39m \u001B[38;5;124m'\u001B[39m\u001B[38;5;124mno\u001B[39m\u001B[38;5;124m'\u001B[39m:\n\u001B[1;32m---> 63\u001B[0m     graphs_processed \u001B[38;5;241m=\u001B[39m \u001B[43mnew_norm\u001B[49m\u001B[43m(\u001B[49m\u001B[43mgraphs_processed\u001B[49m\u001B[43m,\u001B[49m\u001B[43m \u001B[49m\u001B[43mfeature_keys\u001B[49m\u001B[43m)\u001B[49m \n\u001B[0;32m     65\u001B[0m x_original \u001B[38;5;241m=\u001B[39m merge_features(\n\u001B[0;32m     66\u001B[0m     graphs_processed,\n\u001B[0;32m     67\u001B[0m     feature_keys,\n\u001B[1;32m   (...)\u001B[0m\n\u001B[0;32m     71\u001B[0m     uniform_flag\u001B[38;5;241m=\u001B[39mhyperparams[\u001B[38;5;124m'\u001B[39m\u001B[38;5;124muniform_flag\u001B[39m\u001B[38;5;124m'\u001B[39m]\n\u001B[0;32m     72\u001B[0m )\n\u001B[0;32m     74\u001B[0m \u001B[38;5;28;01mif\u001B[39;00m norm_flag\u001B[38;5;241m==\u001B[39m\u001B[38;5;124m'\u001B[39m\u001B[38;5;124myes\u001B[39m\u001B[38;5;124m'\u001B[39m:\n",
      "File \u001B[1;32m~\\Desktop\\Studia\\StudiaMagisterskie\\1Semestr\\EksploracjaDanych\\Project\\AGH---Data-exploration---Graph-Classification\\originalPaper\\code\\graph.py:166\u001B[0m, in \u001B[0;36mnew_norm\u001B[1;34m(graphs_, feature_keys)\u001B[0m\n\u001B[0;32m    164\u001B[0m \u001B[38;5;28;01mfor\u001B[39;00m gs \u001B[38;5;129;01min\u001B[39;00m graphs_:\n\u001B[0;32m    165\u001B[0m     \u001B[38;5;28;01mfor\u001B[39;00m g \u001B[38;5;129;01min\u001B[39;00m gs:\n\u001B[1;32m--> 166\u001B[0m         tmp \u001B[38;5;241m=\u001B[39m \u001B[38;5;28;43mmax\u001B[39;49m\u001B[43m(\u001B[49m\u001B[43mnx\u001B[49m\u001B[38;5;241;43m.\u001B[39;49m\u001B[43mget_node_attributes\u001B[49m\u001B[43m(\u001B[49m\u001B[43mg\u001B[49m\u001B[43m,\u001B[49m\u001B[43m \u001B[49m\u001B[43mattr\u001B[49m\u001B[43m)\u001B[49m\u001B[38;5;241;43m.\u001B[39;49m\u001B[43mvalues\u001B[49m\u001B[43m(\u001B[49m\u001B[43m)\u001B[49m\u001B[43m)\u001B[49m\n\u001B[0;32m    167\u001B[0m         \u001B[38;5;28;01mif\u001B[39;00m tmp \u001B[38;5;241m>\u001B[39m newnorm[attr]:\n\u001B[0;32m    168\u001B[0m             newnorm[attr] \u001B[38;5;241m=\u001B[39m tmp\n",
      "\u001B[1;31mValueError\u001B[0m: max() arg is an empty sequence"
     ]
    }
   ],
   "source": [
    "evaluate(dataset=\"AIDS\", classifier='random_forest', baseline='ldp', hyperparams=HYPERPARAMS)"
   ]
  },
  {
   "cell_type": "code",
   "execution_count": null,
   "outputs": [],
   "source": [
    "evaluate(dataset=\"AIDS\", classifier='random_forest', baseline='ldp_extended', hyperparams=HYPERPARAMS)"
   ],
   "metadata": {
    "collapsed": false
   }
  },
  {
   "cell_type": "code",
   "execution_count": null,
   "outputs": [],
   "source": [
    "evaluate(dataset=\"AIDS\", classifier='random_forest', baseline='graph_invariants', hyperparams=HYPERPARAMS)"
   ],
   "metadata": {
    "collapsed": false
   }
  },
  {
   "cell_type": "code",
   "execution_count": null,
   "outputs": [],
   "source": [],
   "metadata": {
    "collapsed": false
   }
  }
 ],
 "metadata": {
  "colab": {
   "provenance": []
  },
  "kernelspec": {
   "display_name": "Python 3 (ipykernel)",
   "language": "python",
   "name": "python3"
  },
  "language_info": {
   "codemirror_mode": {
    "name": "ipython",
    "version": 3
   },
   "file_extension": ".py",
   "mimetype": "text/x-python",
   "name": "python",
   "nbconvert_exporter": "python",
   "pygments_lexer": "ipython3",
   "version": "3.10.6"
  }
 },
 "nbformat": 4,
 "nbformat_minor": 1
}
