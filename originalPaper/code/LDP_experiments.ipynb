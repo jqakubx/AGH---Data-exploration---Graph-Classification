{
 "cells": [
  {
   "cell_type": "code",
   "execution_count": 1,
   "metadata": {
    "colab": {
     "base_uri": "https://localhost:8080/"
    },
    "id": "bZff0VkNdGY8",
    "outputId": "64f7b3c5-95e3-44c5-c72e-683ec63ad6c4"
   },
   "outputs": [],
   "source": [
    "#%pip install scikit-learn numpy matplotlib networkx pandas scipy torch statsmodels\n"
   ]
  },
  {
   "cell_type": "code",
   "execution_count": 2,
   "metadata": {},
   "outputs": [
    {
     "name": "stdout",
     "output_type": "stream",
     "text": [
      "11.7\n"
     ]
    }
   ],
   "source": [
    "import torch\n",
    "print(torch.version.cuda)"
   ]
  },
  {
   "cell_type": "code",
   "execution_count": 3,
   "metadata": {},
   "outputs": [],
   "source": [
    "# %pip install pyg_lib torch_scatter torch_sparse -f https://data.pyg.org/whl/torch-1.13.0+cu117.html\n",
    "# tu trzeba wpisać odpowiednią wersję CUDA, patrz: https://pytorch-geometric.readthedocs.io/en/latest/install/installation.html"
   ]
  },
  {
   "cell_type": "code",
   "execution_count": 4,
   "metadata": {},
   "outputs": [],
   "source": [
    "# %pip install torch-geometric"
   ]
  },
  {
   "cell_type": "code",
   "execution_count": 5,
   "metadata": {},
   "outputs": [],
   "source": [
    "# from torch_geometric.datasets import TUDataset\n",
    "\n",
    "# ROOT_DATA_PATH = \"../data\"\n",
    "\n",
    "# # Social networks\n",
    "# imdb_binary_dataset = TUDataset(root=ROOT_DATA_PATH, name=\"IMDB-BINARY\")\n",
    "# imdb_multi_dataset = TUDataset(root=ROOT_DATA_PATH, name=\"IMDB-MULTI\")\n",
    "# reddit_binary_dataset = TUDataset(root=ROOT_DATA_PATH, name=\"REDDIT-BINARY\")\n",
    "# reddit_multi_5k_dataset = TUDataset(root=ROOT_DATA_PATH, name=\"REDDIT-MULTI-5K\")\n",
    "# reddit_multi_12k_dataset = TUDataset(root=ROOT_DATA_PATH, name=\"REDDIT-MULTI-12K\")\n",
    "# collab_dataset = TUDataset(root=ROOT_DATA_PATH, name=\"COLLAB\")\n",
    "# # Bioinformatics\n",
    "# enzymes_dataset = TUDataset(root=ROOT_DATA_PATH, name=\"ENZYMES\")\n",
    "# proteins_dataset = TUDataset(root=ROOT_DATA_PATH, name=\"PROTEINS\")\n",
    "# # Small molecules\n",
    "# aids_dataset = TUDataset(root=ROOT_DATA_PATH, name=\"AIDS\")\n",
    "# # Computer vision\n",
    "# coildeg_dataset = TUDataset(root=ROOT_DATA_PATH, name=\"COIL-DEL\")\n",
    "# # Synthetic\n",
    "# synthetic_dataset = TUDataset(root=ROOT_DATA_PATH, name=\"SYNTHETIC\")\n",
    "\n",
    "\n",
    "# # do pobrania jeszcze dataset z cząsteczkami stąd: https://ogb.stanford.edu/docs/graphprop/#pyg"
   ]
  },
  {
   "cell_type": "code",
   "execution_count": 6,
   "metadata": {},
   "outputs": [],
   "source": [
    "HYPERPARAMS = {\n",
    "    'n_bin': 30,  # number of bins for historgram\n",
    "    'norm_flag': 'no',  # normalize before calling function_basis versus normalize after\n",
    "    'nonlinear_flag': 'True',  # SVM linear kernel versus nonlinear kernel\n",
    "    'uniform_flag': True,  # unform versus log scale. True for imdb, False for reddit.\n",
    "    'cdf_flag': True,  # cdf versus pdf. True for most dataset.\n",
    "    'his_norm_flag': 'yes'\n",
    "}"
   ]
  },
  {
   "cell_type": "code",
   "execution_count": 7,
   "metadata": {},
   "outputs": [
    {
     "name": "stdout",
     "output_type": "stream",
     "text": [
      "==========\n",
      "EVALUATION\n",
      "==========\n",
      "Classifier: svm\n",
      "Baseline: ldp\n",
      "Dataset: imdb_binary\n",
      "---------------------\n",
      "imdb_binary\n",
      "Cross val score accuracy: 0.7253999999999999\n",
      "Cross val score f1: 0.7220641077420118\n",
      "Holdout Accuracy: 0.735\n",
      "Holdout F1 score: 0.730681291435485\n"
     ]
    }
   ],
   "source": [
    "from main import evaluate\n",
    "\n",
    "evaluate(dataset=\"imdb_binary\", classifier='svm', baseline='ldp', hyperparams=HYPERPARAMS)"
   ]
  },
  {
   "cell_type": "code",
   "execution_count": 8,
   "metadata": {},
   "outputs": [],
   "source": [
    "# evaluate(dataset=\"imdb_binary\", classifier='svm', baseline='graph_invariants', hyperparams=HYPERPARAMS)"
   ]
  },
  {
   "cell_type": "code",
   "execution_count": 9,
   "metadata": {},
   "outputs": [
    {
     "name": "stdout",
     "output_type": "stream",
     "text": [
      "==========\n",
      "EVALUATION\n",
      "==========\n",
      "Classifier: svm\n",
      "Baseline: ldp_extended\n",
      "Dataset: imdb_binary\n",
      "---------------------\n"
     ]
    },
    {
     "name": "stderr",
     "output_type": "stream",
     "text": [
      "/home/piotr/Documents/studia/eksploracja/projekt/AGH---Data-exploration---Graph-Classification/originalPaper/code/graph.py:89: RuntimeWarning: Precision loss occurred in moment calculation due to catastrophic cancellation. This occurs when the data are nearly identical. Results may be unreliable.\n",
      "  agg_val = agg_func(neighbors_descr)\n"
     ]
    },
    {
     "name": "stdout",
     "output_type": "stream",
     "text": [
      "imdb_binary\n",
      "Cross val score accuracy: 0.7331999999999999\n",
      "Cross val score f1: 0.740432875611279\n",
      "Holdout Accuracy: 0.7175\n",
      "Holdout F1 score: 0.7235490793756806\n"
     ]
    }
   ],
   "source": [
    "from main import evaluate\n",
    "\n",
    "evaluate(dataset=\"imdb_binary\", classifier='svm', baseline='ldp_extended', hyperparams=HYPERPARAMS)"
   ]
  },
  {
   "cell_type": "code",
   "execution_count": 10,
   "metadata": {},
   "outputs": [
    {
     "name": "stdout",
     "output_type": "stream",
     "text": [
      "LDP x: (1000, 145), y: (1000,)\n"
     ]
    },
    {
     "name": "stderr",
     "output_type": "stream",
     "text": [
      "/home/piotr/Documents/studia/eksploracja/projekt/AGH---Data-exploration---Graph-Classification/originalPaper/code/graph.py:89: RuntimeWarning: Precision loss occurred in moment calculation due to catastrophic cancellation. This occurs when the data are nearly identical. Results may be unreliable.\n",
      "  agg_val = agg_func(neighbors_descr)\n"
     ]
    },
    {
     "name": "stdout",
     "output_type": "stream",
     "text": [
      "LDP Extended x: (1000, 775), y: (1000,)\n",
      "Graph invariants x: (1000, 4), y: (1000,)\n"
     ]
    }
   ],
   "source": [
    "from graph import load_graph\n",
    "from main import convert_graphs_to_vectors\n",
    "\n",
    "dataset = 'imdb_binary'\n",
    "\n",
    "graphs, labels = load_graph(dataset)\n",
    "\n",
    "x_ldp, y_ldp = convert_graphs_to_vectors(dataset, graphs, labels, baseline='ldp', hyperparams=HYPERPARAMS)\n",
    "\n",
    "print(f\"LDP x: {x_ldp.shape}, y: {y_ldp.shape}\")\n",
    "\n",
    "x_ldp_ex, y_ldp_ex = convert_graphs_to_vectors(dataset, graphs, labels, baseline='ldp_extended', hyperparams=HYPERPARAMS)\n",
    "\n",
    "print(f\"LDP Extended x: {x_ldp_ex.shape}, y: {y_ldp_ex.shape}\")\n",
    "\n",
    "x_invars, y_invars = convert_graphs_to_vectors(dataset, graphs, labels, baseline='graph_invariants', hyperparams=HYPERPARAMS)\n",
    "\n",
    "print(f\"Graph invariants x: {x_invars.shape}, y: {y_invars.shape}\")"
   ]
  },
  {
   "cell_type": "code",
   "execution_count": 11,
   "metadata": {},
   "outputs": [
    {
     "name": "stdout",
     "output_type": "stream",
     "text": [
      "==========\n",
      "EVALUATION\n",
      "==========\n",
      "Classifier: random_forest\n",
      "Baseline: ldp\n",
      "Dataset: imdb_binary\n",
      "---------------------\n",
      "Cross val score accuracy: 0.7265999999999999\n",
      "Cross val score f1: 0.7259219015060159\n",
      "Holdout Accuracy: 0.7209999999999999\n",
      "Holdout F1 score: 0.7210196718653511\n"
     ]
    }
   ],
   "source": [
    "evaluate(dataset=\"imdb_binary\", classifier='random_forest', baseline='ldp', hyperparams=HYPERPARAMS)"
   ]
  },
  {
   "cell_type": "code",
   "execution_count": null,
   "metadata": {},
   "outputs": [],
   "source": []
  },
  {
   "cell_type": "code",
   "execution_count": 12,
   "metadata": {},
   "outputs": [
    {
     "name": "stdout",
     "output_type": "stream",
     "text": [
      "==========\n",
      "EVALUATION\n",
      "==========\n",
      "Classifier: random_forest\n",
      "Baseline: ldp\n",
      "Dataset: IMDB-BINARY\n",
      "---------------------\n",
      "Cross val score accuracy: 0.7293999999999999\n",
      "Cross val score f1: 0.727161134640198\n",
      "Holdout Accuracy: 0.721\n",
      "Holdout F1 score: 0.7209145618569598\n"
     ]
    }
   ],
   "source": [
    "evaluate(dataset=\"IMDB-BINARY\", classifier='random_forest', baseline='ldp', hyperparams=HYPERPARAMS)"
   ]
  },
  {
   "cell_type": "code",
   "execution_count": 13,
   "metadata": {},
   "outputs": [
    {
     "name": "stdout",
     "output_type": "stream",
     "text": [
      "==========\n",
      "EVALUATION\n",
      "==========\n",
      "Classifier: random_forest\n",
      "Baseline: ldp_extended\n",
      "Dataset: imdb_binary\n",
      "---------------------\n"
     ]
    },
    {
     "name": "stderr",
     "output_type": "stream",
     "text": [
      "/home/piotr/Documents/studia/eksploracja/projekt/AGH---Data-exploration---Graph-Classification/originalPaper/code/graph.py:89: RuntimeWarning: Precision loss occurred in moment calculation due to catastrophic cancellation. This occurs when the data are nearly identical. Results may be unreliable.\n",
      "  agg_val = agg_func(neighbors_descr)\n"
     ]
    },
    {
     "name": "stdout",
     "output_type": "stream",
     "text": [
      "Cross val score accuracy: 0.724\n",
      "Cross val score f1: 0.7221525021413925\n",
      "Holdout Accuracy: 0.7209999999999999\n",
      "Holdout F1 score: 0.7214271572396717\n"
     ]
    }
   ],
   "source": [
    "evaluate(dataset=\"imdb_binary\", classifier='random_forest', baseline='ldp_extended', hyperparams=HYPERPARAMS)"
   ]
  },
  {
   "cell_type": "code",
   "execution_count": null,
   "metadata": {},
   "outputs": [],
   "source": []
  }
 ],
 "metadata": {
  "colab": {
   "provenance": []
  },
  "kernelspec": {
   "display_name": "Python 3 (ipykernel)",
   "language": "python",
   "name": "python3"
  },
  "language_info": {
   "codemirror_mode": {
    "name": "ipython",
    "version": 3
   },
   "file_extension": ".py",
   "mimetype": "text/x-python",
   "name": "python",
   "nbconvert_exporter": "python",
   "pygments_lexer": "ipython3",
   "version": "3.10.6"
  }
 },
 "nbformat": 4,
 "nbformat_minor": 1
}
