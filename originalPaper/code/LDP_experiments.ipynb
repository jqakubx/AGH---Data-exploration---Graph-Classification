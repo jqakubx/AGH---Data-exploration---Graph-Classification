{
 "cells": [
  {
   "cell_type": "code",
   "execution_count": 6,
   "metadata": {
    "colab": {
     "base_uri": "https://localhost:8080/"
    },
    "id": "bZff0VkNdGY8",
    "outputId": "64f7b3c5-95e3-44c5-c72e-683ec63ad6c4"
   },
   "outputs": [
    {
     "name": "stdout",
     "output_type": "stream",
     "text": [
      "Requirement already satisfied: scikit-learn in /home/piotr/Documents/studia/eksploracja/projekt/AGH---Data-exploration---Graph-Classification/.venv/lib/python3.10/site-packages (1.2.2)\n",
      "Requirement already satisfied: numpy in /home/piotr/Documents/studia/eksploracja/projekt/AGH---Data-exploration---Graph-Classification/.venv/lib/python3.10/site-packages (1.24.2)\n",
      "Requirement already satisfied: matplotlib in /home/piotr/Documents/studia/eksploracja/projekt/AGH---Data-exploration---Graph-Classification/.venv/lib/python3.10/site-packages (3.7.1)\n",
      "Requirement already satisfied: networkx in /home/piotr/Documents/studia/eksploracja/projekt/AGH---Data-exploration---Graph-Classification/.venv/lib/python3.10/site-packages (3.0)\n",
      "Requirement already satisfied: pandas in /home/piotr/Documents/studia/eksploracja/projekt/AGH---Data-exploration---Graph-Classification/.venv/lib/python3.10/site-packages (1.5.3)\n",
      "Requirement already satisfied: scipy in /home/piotr/Documents/studia/eksploracja/projekt/AGH---Data-exploration---Graph-Classification/.venv/lib/python3.10/site-packages (1.10.1)\n",
      "Requirement already satisfied: torch in /home/piotr/Documents/studia/eksploracja/projekt/AGH---Data-exploration---Graph-Classification/.venv/lib/python3.10/site-packages (2.0.0)\n",
      "Requirement already satisfied: statsmodels in /home/piotr/Documents/studia/eksploracja/projekt/AGH---Data-exploration---Graph-Classification/.venv/lib/python3.10/site-packages (0.13.5)\n",
      "Requirement already satisfied: threadpoolctl>=2.0.0 in /home/piotr/Documents/studia/eksploracja/projekt/AGH---Data-exploration---Graph-Classification/.venv/lib/python3.10/site-packages (from scikit-learn) (3.1.0)\n",
      "Requirement already satisfied: joblib>=1.1.1 in /home/piotr/Documents/studia/eksploracja/projekt/AGH---Data-exploration---Graph-Classification/.venv/lib/python3.10/site-packages (from scikit-learn) (1.2.0)\n",
      "Requirement already satisfied: pyparsing>=2.3.1 in /home/piotr/Documents/studia/eksploracja/projekt/AGH---Data-exploration---Graph-Classification/.venv/lib/python3.10/site-packages (from matplotlib) (3.0.9)\n",
      "Requirement already satisfied: pillow>=6.2.0 in /home/piotr/Documents/studia/eksploracja/projekt/AGH---Data-exploration---Graph-Classification/.venv/lib/python3.10/site-packages (from matplotlib) (9.4.0)\n",
      "Requirement already satisfied: fonttools>=4.22.0 in /home/piotr/Documents/studia/eksploracja/projekt/AGH---Data-exploration---Graph-Classification/.venv/lib/python3.10/site-packages (from matplotlib) (4.39.2)\n",
      "Requirement already satisfied: kiwisolver>=1.0.1 in /home/piotr/Documents/studia/eksploracja/projekt/AGH---Data-exploration---Graph-Classification/.venv/lib/python3.10/site-packages (from matplotlib) (1.4.4)\n",
      "Requirement already satisfied: python-dateutil>=2.7 in /home/piotr/Documents/studia/eksploracja/projekt/AGH---Data-exploration---Graph-Classification/.venv/lib/python3.10/site-packages (from matplotlib) (2.8.2)\n",
      "Requirement already satisfied: packaging>=20.0 in /home/piotr/Documents/studia/eksploracja/projekt/AGH---Data-exploration---Graph-Classification/.venv/lib/python3.10/site-packages (from matplotlib) (23.0)\n",
      "Requirement already satisfied: cycler>=0.10 in /home/piotr/Documents/studia/eksploracja/projekt/AGH---Data-exploration---Graph-Classification/.venv/lib/python3.10/site-packages (from matplotlib) (0.11.0)\n",
      "Requirement already satisfied: contourpy>=1.0.1 in /home/piotr/Documents/studia/eksploracja/projekt/AGH---Data-exploration---Graph-Classification/.venv/lib/python3.10/site-packages (from matplotlib) (1.0.7)\n",
      "Requirement already satisfied: pytz>=2020.1 in /home/piotr/Documents/studia/eksploracja/projekt/AGH---Data-exploration---Graph-Classification/.venv/lib/python3.10/site-packages (from pandas) (2023.2)\n",
      "Requirement already satisfied: sympy in /home/piotr/Documents/studia/eksploracja/projekt/AGH---Data-exploration---Graph-Classification/.venv/lib/python3.10/site-packages (from torch) (1.11.1)\n",
      "Requirement already satisfied: nvidia-curand-cu11==10.2.10.91 in /home/piotr/Documents/studia/eksploracja/projekt/AGH---Data-exploration---Graph-Classification/.venv/lib/python3.10/site-packages (from torch) (10.2.10.91)\n",
      "Requirement already satisfied: nvidia-cufft-cu11==10.9.0.58 in /home/piotr/Documents/studia/eksploracja/projekt/AGH---Data-exploration---Graph-Classification/.venv/lib/python3.10/site-packages (from torch) (10.9.0.58)\n",
      "Requirement already satisfied: nvidia-cudnn-cu11==8.5.0.96 in /home/piotr/Documents/studia/eksploracja/projekt/AGH---Data-exploration---Graph-Classification/.venv/lib/python3.10/site-packages (from torch) (8.5.0.96)\n",
      "Requirement already satisfied: filelock in /home/piotr/Documents/studia/eksploracja/projekt/AGH---Data-exploration---Graph-Classification/.venv/lib/python3.10/site-packages (from torch) (3.10.4)\n",
      "Requirement already satisfied: nvidia-cusparse-cu11==11.7.4.91 in /home/piotr/Documents/studia/eksploracja/projekt/AGH---Data-exploration---Graph-Classification/.venv/lib/python3.10/site-packages (from torch) (11.7.4.91)\n",
      "Requirement already satisfied: typing-extensions in /home/piotr/Documents/studia/eksploracja/projekt/AGH---Data-exploration---Graph-Classification/.venv/lib/python3.10/site-packages (from torch) (4.5.0)\n",
      "Requirement already satisfied: nvidia-cusolver-cu11==11.4.0.1 in /home/piotr/Documents/studia/eksploracja/projekt/AGH---Data-exploration---Graph-Classification/.venv/lib/python3.10/site-packages (from torch) (11.4.0.1)\n",
      "Requirement already satisfied: nvidia-cublas-cu11==11.10.3.66 in /home/piotr/Documents/studia/eksploracja/projekt/AGH---Data-exploration---Graph-Classification/.venv/lib/python3.10/site-packages (from torch) (11.10.3.66)\n",
      "Requirement already satisfied: nvidia-cuda-runtime-cu11==11.7.99 in /home/piotr/Documents/studia/eksploracja/projekt/AGH---Data-exploration---Graph-Classification/.venv/lib/python3.10/site-packages (from torch) (11.7.99)\n",
      "Requirement already satisfied: jinja2 in /home/piotr/Documents/studia/eksploracja/projekt/AGH---Data-exploration---Graph-Classification/.venv/lib/python3.10/site-packages (from torch) (3.1.2)\n",
      "Requirement already satisfied: nvidia-nccl-cu11==2.14.3 in /home/piotr/Documents/studia/eksploracja/projekt/AGH---Data-exploration---Graph-Classification/.venv/lib/python3.10/site-packages (from torch) (2.14.3)\n",
      "Requirement already satisfied: nvidia-cuda-cupti-cu11==11.7.101 in /home/piotr/Documents/studia/eksploracja/projekt/AGH---Data-exploration---Graph-Classification/.venv/lib/python3.10/site-packages (from torch) (11.7.101)\n",
      "Requirement already satisfied: triton==2.0.0 in /home/piotr/Documents/studia/eksploracja/projekt/AGH---Data-exploration---Graph-Classification/.venv/lib/python3.10/site-packages (from torch) (2.0.0)\n",
      "Requirement already satisfied: nvidia-cuda-nvrtc-cu11==11.7.99 in /home/piotr/Documents/studia/eksploracja/projekt/AGH---Data-exploration---Graph-Classification/.venv/lib/python3.10/site-packages (from torch) (11.7.99)\n",
      "Requirement already satisfied: nvidia-nvtx-cu11==11.7.91 in /home/piotr/Documents/studia/eksploracja/projekt/AGH---Data-exploration---Graph-Classification/.venv/lib/python3.10/site-packages (from torch) (11.7.91)\n",
      "Requirement already satisfied: wheel in /home/piotr/Documents/studia/eksploracja/projekt/AGH---Data-exploration---Graph-Classification/.venv/lib/python3.10/site-packages (from nvidia-cublas-cu11==11.10.3.66->torch) (0.38.4)\n",
      "Requirement already satisfied: setuptools in /home/piotr/Documents/studia/eksploracja/projekt/AGH---Data-exploration---Graph-Classification/.venv/lib/python3.10/site-packages (from nvidia-cublas-cu11==11.10.3.66->torch) (67.4.0)\n",
      "Requirement already satisfied: lit in /home/piotr/Documents/studia/eksploracja/projekt/AGH---Data-exploration---Graph-Classification/.venv/lib/python3.10/site-packages (from triton==2.0.0->torch) (16.0.0)\n",
      "Requirement already satisfied: cmake in /home/piotr/Documents/studia/eksploracja/projekt/AGH---Data-exploration---Graph-Classification/.venv/lib/python3.10/site-packages (from triton==2.0.0->torch) (3.26.1)\n",
      "Requirement already satisfied: patsy>=0.5.2 in /home/piotr/Documents/studia/eksploracja/projekt/AGH---Data-exploration---Graph-Classification/.venv/lib/python3.10/site-packages (from statsmodels) (0.5.3)\n",
      "Requirement already satisfied: six in /home/piotr/Documents/studia/eksploracja/projekt/AGH---Data-exploration---Graph-Classification/.venv/lib/python3.10/site-packages (from patsy>=0.5.2->statsmodels) (1.16.0)\n",
      "Requirement already satisfied: MarkupSafe>=2.0 in /home/piotr/Documents/studia/eksploracja/projekt/AGH---Data-exploration---Graph-Classification/.venv/lib/python3.10/site-packages (from jinja2->torch) (2.1.2)\n",
      "Requirement already satisfied: mpmath>=0.19 in /home/piotr/Documents/studia/eksploracja/projekt/AGH---Data-exploration---Graph-Classification/.venv/lib/python3.10/site-packages (from sympy->torch) (1.3.0)\n",
      "\n",
      "\u001b[1m[\u001b[0m\u001b[34;49mnotice\u001b[0m\u001b[1;39;49m]\u001b[0m\u001b[39;49m A new release of pip is available: \u001b[0m\u001b[31;49m23.0.1\u001b[0m\u001b[39;49m -> \u001b[0m\u001b[32;49m23.1.2\u001b[0m\n",
      "\u001b[1m[\u001b[0m\u001b[34;49mnotice\u001b[0m\u001b[1;39;49m]\u001b[0m\u001b[39;49m To update, run: \u001b[0m\u001b[32;49mpip install --upgrade pip\u001b[0m\n",
      "Note: you may need to restart the kernel to use updated packages.\n"
     ]
    }
   ],
   "source": [
    "%pip install scikit-learn numpy matplotlib networkx pandas scipy torch statsmodels\n"
   ]
  },
  {
   "cell_type": "code",
   "execution_count": 7,
   "metadata": {},
   "outputs": [
    {
     "name": "stdout",
     "output_type": "stream",
     "text": [
      "11.7\n"
     ]
    }
   ],
   "source": [
    "import torch\n",
    "print(torch.version.cuda)"
   ]
  },
  {
   "cell_type": "code",
   "execution_count": 8,
   "metadata": {},
   "outputs": [
    {
     "name": "stdout",
     "output_type": "stream",
     "text": [
      "Looking in links: https://data.pyg.org/whl/torch-1.13.0+cu117.html\n",
      "Requirement already satisfied: pyg_lib in /home/piotr/Documents/studia/eksploracja/projekt/AGH---Data-exploration---Graph-Classification/.venv/lib/python3.10/site-packages (0.2.0+pt113cu117)\n",
      "Requirement already satisfied: torch_scatter in /home/piotr/Documents/studia/eksploracja/projekt/AGH---Data-exploration---Graph-Classification/.venv/lib/python3.10/site-packages (2.1.1+pt113cu117)\n",
      "Requirement already satisfied: torch_sparse in /home/piotr/Documents/studia/eksploracja/projekt/AGH---Data-exploration---Graph-Classification/.venv/lib/python3.10/site-packages (0.6.17+pt113cu117)\n",
      "Requirement already satisfied: scipy in /home/piotr/Documents/studia/eksploracja/projekt/AGH---Data-exploration---Graph-Classification/.venv/lib/python3.10/site-packages (from torch_sparse) (1.10.1)\n",
      "Requirement already satisfied: numpy<1.27.0,>=1.19.5 in /home/piotr/Documents/studia/eksploracja/projekt/AGH---Data-exploration---Graph-Classification/.venv/lib/python3.10/site-packages (from scipy->torch_sparse) (1.24.2)\n",
      "\n",
      "\u001b[1m[\u001b[0m\u001b[34;49mnotice\u001b[0m\u001b[1;39;49m]\u001b[0m\u001b[39;49m A new release of pip is available: \u001b[0m\u001b[31;49m23.0.1\u001b[0m\u001b[39;49m -> \u001b[0m\u001b[32;49m23.1.2\u001b[0m\n",
      "\u001b[1m[\u001b[0m\u001b[34;49mnotice\u001b[0m\u001b[1;39;49m]\u001b[0m\u001b[39;49m To update, run: \u001b[0m\u001b[32;49mpip install --upgrade pip\u001b[0m\n",
      "Note: you may need to restart the kernel to use updated packages.\n"
     ]
    }
   ],
   "source": [
    "%pip install pyg_lib torch_scatter torch_sparse -f https://data.pyg.org/whl/torch-1.13.0+cu117.html\n",
    "# tu trzeba wpisać odpowiednią wersję CUDA, patrz: https://pytorch-geometric.readthedocs.io/en/latest/install/installation.html"
   ]
  },
  {
   "cell_type": "code",
   "execution_count": 9,
   "metadata": {},
   "outputs": [
    {
     "name": "stdout",
     "output_type": "stream",
     "text": [
      "Requirement already satisfied: torch-geometric in /home/piotr/Documents/studia/eksploracja/projekt/AGH---Data-exploration---Graph-Classification/.venv/lib/python3.10/site-packages (2.3.0)\n",
      "Requirement already satisfied: scikit-learn in /home/piotr/Documents/studia/eksploracja/projekt/AGH---Data-exploration---Graph-Classification/.venv/lib/python3.10/site-packages (from torch-geometric) (1.2.2)\n",
      "Requirement already satisfied: pyparsing in /home/piotr/Documents/studia/eksploracja/projekt/AGH---Data-exploration---Graph-Classification/.venv/lib/python3.10/site-packages (from torch-geometric) (3.0.9)\n",
      "Requirement already satisfied: scipy in /home/piotr/Documents/studia/eksploracja/projekt/AGH---Data-exploration---Graph-Classification/.venv/lib/python3.10/site-packages (from torch-geometric) (1.10.1)\n",
      "Requirement already satisfied: numpy in /home/piotr/Documents/studia/eksploracja/projekt/AGH---Data-exploration---Graph-Classification/.venv/lib/python3.10/site-packages (from torch-geometric) (1.24.2)\n",
      "Requirement already satisfied: psutil>=5.8.0 in /home/piotr/Documents/studia/eksploracja/projekt/AGH---Data-exploration---Graph-Classification/.venv/lib/python3.10/site-packages (from torch-geometric) (5.9.4)\n",
      "Requirement already satisfied: jinja2 in /home/piotr/Documents/studia/eksploracja/projekt/AGH---Data-exploration---Graph-Classification/.venv/lib/python3.10/site-packages (from torch-geometric) (3.1.2)\n",
      "Requirement already satisfied: requests in /home/piotr/Documents/studia/eksploracja/projekt/AGH---Data-exploration---Graph-Classification/.venv/lib/python3.10/site-packages (from torch-geometric) (2.28.2)\n",
      "Requirement already satisfied: tqdm in /home/piotr/Documents/studia/eksploracja/projekt/AGH---Data-exploration---Graph-Classification/.venv/lib/python3.10/site-packages (from torch-geometric) (4.65.0)\n",
      "Requirement already satisfied: MarkupSafe>=2.0 in /home/piotr/Documents/studia/eksploracja/projekt/AGH---Data-exploration---Graph-Classification/.venv/lib/python3.10/site-packages (from jinja2->torch-geometric) (2.1.2)\n",
      "Requirement already satisfied: urllib3<1.27,>=1.21.1 in /home/piotr/Documents/studia/eksploracja/projekt/AGH---Data-exploration---Graph-Classification/.venv/lib/python3.10/site-packages (from requests->torch-geometric) (1.26.15)\n",
      "Requirement already satisfied: certifi>=2017.4.17 in /home/piotr/Documents/studia/eksploracja/projekt/AGH---Data-exploration---Graph-Classification/.venv/lib/python3.10/site-packages (from requests->torch-geometric) (2022.12.7)\n",
      "Requirement already satisfied: charset-normalizer<4,>=2 in /home/piotr/Documents/studia/eksploracja/projekt/AGH---Data-exploration---Graph-Classification/.venv/lib/python3.10/site-packages (from requests->torch-geometric) (3.1.0)\n",
      "Requirement already satisfied: idna<4,>=2.5 in /home/piotr/Documents/studia/eksploracja/projekt/AGH---Data-exploration---Graph-Classification/.venv/lib/python3.10/site-packages (from requests->torch-geometric) (3.4)\n",
      "Requirement already satisfied: threadpoolctl>=2.0.0 in /home/piotr/Documents/studia/eksploracja/projekt/AGH---Data-exploration---Graph-Classification/.venv/lib/python3.10/site-packages (from scikit-learn->torch-geometric) (3.1.0)\n",
      "Requirement already satisfied: joblib>=1.1.1 in /home/piotr/Documents/studia/eksploracja/projekt/AGH---Data-exploration---Graph-Classification/.venv/lib/python3.10/site-packages (from scikit-learn->torch-geometric) (1.2.0)\n",
      "\n",
      "\u001b[1m[\u001b[0m\u001b[34;49mnotice\u001b[0m\u001b[1;39;49m]\u001b[0m\u001b[39;49m A new release of pip is available: \u001b[0m\u001b[31;49m23.0.1\u001b[0m\u001b[39;49m -> \u001b[0m\u001b[32;49m23.1.2\u001b[0m\n",
      "\u001b[1m[\u001b[0m\u001b[34;49mnotice\u001b[0m\u001b[1;39;49m]\u001b[0m\u001b[39;49m To update, run: \u001b[0m\u001b[32;49mpip install --upgrade pip\u001b[0m\n",
      "Note: you may need to restart the kernel to use updated packages.\n"
     ]
    }
   ],
   "source": [
    "%pip install torch-geometric"
   ]
  },
  {
   "cell_type": "code",
   "execution_count": 10,
   "metadata": {},
   "outputs": [
    {
     "name": "stderr",
     "output_type": "stream",
     "text": [
      "/home/piotr/Documents/studia/eksploracja/projekt/AGH---Data-exploration---Graph-Classification/.venv/lib/python3.10/site-packages/torch_geometric/typing.py:18: UserWarning: An issue occurred while importing 'pyg-lib'. Disabling its usage. Stacktrace: libtorch_cuda_cpp.so: cannot open shared object file: No such file or directory\n",
      "  warnings.warn(f\"An issue occurred while importing 'pyg-lib'. \"\n",
      "/home/piotr/Documents/studia/eksploracja/projekt/AGH---Data-exploration---Graph-Classification/.venv/lib/python3.10/site-packages/torch_geometric/typing.py:31: UserWarning: An issue occurred while importing 'torch-scatter'. Disabling its usage. Stacktrace: /home/piotr/Documents/studia/eksploracja/projekt/AGH---Data-exploration---Graph-Classification/.venv/lib/python3.10/site-packages/torch_scatter/_scatter_cuda.so: undefined symbol: _ZN2at4_ops6narrow4callERKNS_6TensorElll\n",
      "  warnings.warn(f\"An issue occurred while importing 'torch-scatter'. \"\n",
      "/home/piotr/Documents/studia/eksploracja/projekt/AGH---Data-exploration---Graph-Classification/.venv/lib/python3.10/site-packages/torch_geometric/typing.py:42: UserWarning: An issue occurred while importing 'torch-sparse'. Disabling its usage. Stacktrace: /home/piotr/Documents/studia/eksploracja/projekt/AGH---Data-exploration---Graph-Classification/.venv/lib/python3.10/site-packages/torch_sparse/_diag_cuda.so: undefined symbol: _ZN3c106detail19maybe_wrap_dim_slowEllb\n",
      "  warnings.warn(f\"An issue occurred while importing 'torch-sparse'. \"\n",
      "Processing...\n"
     ]
    },
    {
     "ename": "KeyboardInterrupt",
     "evalue": "",
     "output_type": "error",
     "traceback": [
      "\u001b[0;31m---------------------------------------------------------------------------\u001b[0m",
      "\u001b[0;31mKeyboardInterrupt\u001b[0m                         Traceback (most recent call last)",
      "Cell \u001b[0;32mIn[10], line 11\u001b[0m\n\u001b[1;32m      9\u001b[0m reddit_multi_5k_dataset \u001b[39m=\u001b[39m TUDataset(root\u001b[39m=\u001b[39mROOT_DATA_PATH, name\u001b[39m=\u001b[39m\u001b[39m\"\u001b[39m\u001b[39mREDDIT-MULTI-5K\u001b[39m\u001b[39m\"\u001b[39m)\n\u001b[1;32m     10\u001b[0m reddit_multi_12k_dataset \u001b[39m=\u001b[39m TUDataset(root\u001b[39m=\u001b[39mROOT_DATA_PATH, name\u001b[39m=\u001b[39m\u001b[39m\"\u001b[39m\u001b[39mREDDIT-MULTI-12K\u001b[39m\u001b[39m\"\u001b[39m)\n\u001b[0;32m---> 11\u001b[0m collab_dataset \u001b[39m=\u001b[39m TUDataset(root\u001b[39m=\u001b[39;49mROOT_DATA_PATH, name\u001b[39m=\u001b[39;49m\u001b[39m\"\u001b[39;49m\u001b[39mCOLLAB\u001b[39;49m\u001b[39m\"\u001b[39;49m)\n\u001b[1;32m     12\u001b[0m \u001b[39m# Bioinformatics\u001b[39;00m\n\u001b[1;32m     13\u001b[0m enzymes_dataset \u001b[39m=\u001b[39m TUDataset(root\u001b[39m=\u001b[39mROOT_DATA_PATH, name\u001b[39m=\u001b[39m\u001b[39m\"\u001b[39m\u001b[39mENZYMES\u001b[39m\u001b[39m\"\u001b[39m)\n",
      "File \u001b[0;32m~/Documents/studia/eksploracja/projekt/AGH---Data-exploration---Graph-Classification/.venv/lib/python3.10/site-packages/torch_geometric/datasets/tu_dataset.py:125\u001b[0m, in \u001b[0;36mTUDataset.__init__\u001b[0;34m(self, root, name, transform, pre_transform, pre_filter, use_node_attr, use_edge_attr, cleaned)\u001b[0m\n\u001b[1;32m    123\u001b[0m \u001b[39mself\u001b[39m\u001b[39m.\u001b[39mname \u001b[39m=\u001b[39m name\n\u001b[1;32m    124\u001b[0m \u001b[39mself\u001b[39m\u001b[39m.\u001b[39mcleaned \u001b[39m=\u001b[39m cleaned\n\u001b[0;32m--> 125\u001b[0m \u001b[39msuper\u001b[39;49m()\u001b[39m.\u001b[39;49m\u001b[39m__init__\u001b[39;49m(root, transform, pre_transform, pre_filter)\n\u001b[1;32m    127\u001b[0m out \u001b[39m=\u001b[39m torch\u001b[39m.\u001b[39mload(\u001b[39mself\u001b[39m\u001b[39m.\u001b[39mprocessed_paths[\u001b[39m0\u001b[39m])\n\u001b[1;32m    128\u001b[0m \u001b[39mif\u001b[39;00m \u001b[39mnot\u001b[39;00m \u001b[39misinstance\u001b[39m(out, \u001b[39mtuple\u001b[39m) \u001b[39mor\u001b[39;00m \u001b[39mlen\u001b[39m(out) \u001b[39m!=\u001b[39m \u001b[39m3\u001b[39m:\n",
      "File \u001b[0;32m~/Documents/studia/eksploracja/projekt/AGH---Data-exploration---Graph-Classification/.venv/lib/python3.10/site-packages/torch_geometric/data/in_memory_dataset.py:57\u001b[0m, in \u001b[0;36mInMemoryDataset.__init__\u001b[0;34m(self, root, transform, pre_transform, pre_filter, log)\u001b[0m\n\u001b[1;32m     49\u001b[0m \u001b[39mdef\u001b[39;00m \u001b[39m__init__\u001b[39m(\n\u001b[1;32m     50\u001b[0m     \u001b[39mself\u001b[39m,\n\u001b[1;32m     51\u001b[0m     root: Optional[\u001b[39mstr\u001b[39m] \u001b[39m=\u001b[39m \u001b[39mNone\u001b[39;00m,\n\u001b[0;32m   (...)\u001b[0m\n\u001b[1;32m     55\u001b[0m     log: \u001b[39mbool\u001b[39m \u001b[39m=\u001b[39m \u001b[39mTrue\u001b[39;00m,\n\u001b[1;32m     56\u001b[0m ):\n\u001b[0;32m---> 57\u001b[0m     \u001b[39msuper\u001b[39;49m()\u001b[39m.\u001b[39;49m\u001b[39m__init__\u001b[39;49m(root, transform, pre_transform, pre_filter, log)\n\u001b[1;32m     58\u001b[0m     \u001b[39mself\u001b[39m\u001b[39m.\u001b[39m_data \u001b[39m=\u001b[39m \u001b[39mNone\u001b[39;00m\n\u001b[1;32m     59\u001b[0m     \u001b[39mself\u001b[39m\u001b[39m.\u001b[39mslices \u001b[39m=\u001b[39m \u001b[39mNone\u001b[39;00m\n",
      "File \u001b[0;32m~/Documents/studia/eksploracja/projekt/AGH---Data-exploration---Graph-Classification/.venv/lib/python3.10/site-packages/torch_geometric/data/dataset.py:97\u001b[0m, in \u001b[0;36mDataset.__init__\u001b[0;34m(self, root, transform, pre_transform, pre_filter, log)\u001b[0m\n\u001b[1;32m     94\u001b[0m     \u001b[39mself\u001b[39m\u001b[39m.\u001b[39m_download()\n\u001b[1;32m     96\u001b[0m \u001b[39mif\u001b[39;00m \u001b[39mself\u001b[39m\u001b[39m.\u001b[39mhas_process:\n\u001b[0;32m---> 97\u001b[0m     \u001b[39mself\u001b[39;49m\u001b[39m.\u001b[39;49m_process()\n",
      "File \u001b[0;32m~/Documents/studia/eksploracja/projekt/AGH---Data-exploration---Graph-Classification/.venv/lib/python3.10/site-packages/torch_geometric/data/dataset.py:230\u001b[0m, in \u001b[0;36mDataset._process\u001b[0;34m(self)\u001b[0m\n\u001b[1;32m    227\u001b[0m     \u001b[39mprint\u001b[39m(\u001b[39m'\u001b[39m\u001b[39mProcessing...\u001b[39m\u001b[39m'\u001b[39m, file\u001b[39m=\u001b[39msys\u001b[39m.\u001b[39mstderr)\n\u001b[1;32m    229\u001b[0m makedirs(\u001b[39mself\u001b[39m\u001b[39m.\u001b[39mprocessed_dir)\n\u001b[0;32m--> 230\u001b[0m \u001b[39mself\u001b[39;49m\u001b[39m.\u001b[39;49mprocess()\n\u001b[1;32m    232\u001b[0m path \u001b[39m=\u001b[39m osp\u001b[39m.\u001b[39mjoin(\u001b[39mself\u001b[39m\u001b[39m.\u001b[39mprocessed_dir, \u001b[39m'\u001b[39m\u001b[39mpre_transform.pt\u001b[39m\u001b[39m'\u001b[39m)\n\u001b[1;32m    233\u001b[0m torch\u001b[39m.\u001b[39msave(_repr(\u001b[39mself\u001b[39m\u001b[39m.\u001b[39mpre_transform), path)\n",
      "File \u001b[0;32m~/Documents/studia/eksploracja/projekt/AGH---Data-exploration---Graph-Classification/.venv/lib/python3.10/site-packages/torch_geometric/datasets/tu_dataset.py:188\u001b[0m, in \u001b[0;36mTUDataset.process\u001b[0;34m(self)\u001b[0m\n\u001b[1;32m    187\u001b[0m \u001b[39mdef\u001b[39;00m \u001b[39mprocess\u001b[39m(\u001b[39mself\u001b[39m):\n\u001b[0;32m--> 188\u001b[0m     \u001b[39mself\u001b[39m\u001b[39m.\u001b[39mdata, \u001b[39mself\u001b[39m\u001b[39m.\u001b[39mslices, sizes \u001b[39m=\u001b[39m read_tu_data(\u001b[39mself\u001b[39;49m\u001b[39m.\u001b[39;49mraw_dir, \u001b[39mself\u001b[39;49m\u001b[39m.\u001b[39;49mname)\n\u001b[1;32m    190\u001b[0m     \u001b[39mif\u001b[39;00m \u001b[39mself\u001b[39m\u001b[39m.\u001b[39mpre_filter \u001b[39mis\u001b[39;00m \u001b[39mnot\u001b[39;00m \u001b[39mNone\u001b[39;00m \u001b[39mor\u001b[39;00m \u001b[39mself\u001b[39m\u001b[39m.\u001b[39mpre_transform \u001b[39mis\u001b[39;00m \u001b[39mnot\u001b[39;00m \u001b[39mNone\u001b[39;00m:\n\u001b[1;32m    191\u001b[0m         data_list \u001b[39m=\u001b[39m [\u001b[39mself\u001b[39m\u001b[39m.\u001b[39mget(idx) \u001b[39mfor\u001b[39;00m idx \u001b[39min\u001b[39;00m \u001b[39mrange\u001b[39m(\u001b[39mlen\u001b[39m(\u001b[39mself\u001b[39m))]\n",
      "File \u001b[0;32m~/Documents/studia/eksploracja/projekt/AGH---Data-exploration---Graph-Classification/.venv/lib/python3.10/site-packages/torch_geometric/io/tu.py:22\u001b[0m, in \u001b[0;36mread_tu_data\u001b[0;34m(folder, prefix)\u001b[0m\n\u001b[1;32m     19\u001b[0m files \u001b[39m=\u001b[39m glob\u001b[39m.\u001b[39mglob(osp\u001b[39m.\u001b[39mjoin(folder, \u001b[39mf\u001b[39m\u001b[39m'\u001b[39m\u001b[39m{\u001b[39;00mprefix\u001b[39m}\u001b[39;00m\u001b[39m_*.txt\u001b[39m\u001b[39m'\u001b[39m))\n\u001b[1;32m     20\u001b[0m names \u001b[39m=\u001b[39m [f\u001b[39m.\u001b[39msplit(os\u001b[39m.\u001b[39msep)[\u001b[39m-\u001b[39m\u001b[39m1\u001b[39m][\u001b[39mlen\u001b[39m(prefix) \u001b[39m+\u001b[39m \u001b[39m1\u001b[39m:\u001b[39m-\u001b[39m\u001b[39m4\u001b[39m] \u001b[39mfor\u001b[39;00m f \u001b[39min\u001b[39;00m files]\n\u001b[0;32m---> 22\u001b[0m edge_index \u001b[39m=\u001b[39m read_file(folder, prefix, \u001b[39m'\u001b[39;49m\u001b[39mA\u001b[39;49m\u001b[39m'\u001b[39;49m, torch\u001b[39m.\u001b[39;49mlong)\u001b[39m.\u001b[39mt() \u001b[39m-\u001b[39m \u001b[39m1\u001b[39m\n\u001b[1;32m     23\u001b[0m batch \u001b[39m=\u001b[39m read_file(folder, prefix, \u001b[39m'\u001b[39m\u001b[39mgraph_indicator\u001b[39m\u001b[39m'\u001b[39m, torch\u001b[39m.\u001b[39mlong) \u001b[39m-\u001b[39m \u001b[39m1\u001b[39m\n\u001b[1;32m     25\u001b[0m node_attributes \u001b[39m=\u001b[39m torch\u001b[39m.\u001b[39mempty((batch\u001b[39m.\u001b[39msize(\u001b[39m0\u001b[39m), \u001b[39m0\u001b[39m))\n",
      "File \u001b[0;32m~/Documents/studia/eksploracja/projekt/AGH---Data-exploration---Graph-Classification/.venv/lib/python3.10/site-packages/torch_geometric/io/tu.py:92\u001b[0m, in \u001b[0;36mread_file\u001b[0;34m(folder, prefix, name, dtype)\u001b[0m\n\u001b[1;32m     90\u001b[0m \u001b[39mdef\u001b[39;00m \u001b[39mread_file\u001b[39m(folder, prefix, name, dtype\u001b[39m=\u001b[39m\u001b[39mNone\u001b[39;00m):\n\u001b[1;32m     91\u001b[0m     path \u001b[39m=\u001b[39m osp\u001b[39m.\u001b[39mjoin(folder, \u001b[39mf\u001b[39m\u001b[39m'\u001b[39m\u001b[39m{\u001b[39;00mprefix\u001b[39m}\u001b[39;00m\u001b[39m_\u001b[39m\u001b[39m{\u001b[39;00mname\u001b[39m}\u001b[39;00m\u001b[39m.txt\u001b[39m\u001b[39m'\u001b[39m)\n\u001b[0;32m---> 92\u001b[0m     \u001b[39mreturn\u001b[39;00m read_txt_array(path, sep\u001b[39m=\u001b[39;49m\u001b[39m'\u001b[39;49m\u001b[39m,\u001b[39;49m\u001b[39m'\u001b[39;49m, dtype\u001b[39m=\u001b[39;49mdtype)\n",
      "File \u001b[0;32m~/Documents/studia/eksploracja/projekt/AGH---Data-exploration---Graph-Classification/.venv/lib/python3.10/site-packages/torch_geometric/io/txt_array.py:17\u001b[0m, in \u001b[0;36mread_txt_array\u001b[0;34m(path, sep, start, end, dtype, device)\u001b[0m\n\u001b[1;32m     15\u001b[0m \u001b[39mwith\u001b[39;00m \u001b[39mopen\u001b[39m(path, \u001b[39m'\u001b[39m\u001b[39mr\u001b[39m\u001b[39m'\u001b[39m) \u001b[39mas\u001b[39;00m f:\n\u001b[1;32m     16\u001b[0m     src \u001b[39m=\u001b[39m f\u001b[39m.\u001b[39mread()\u001b[39m.\u001b[39msplit(\u001b[39m'\u001b[39m\u001b[39m\\n\u001b[39;00m\u001b[39m'\u001b[39m)[:\u001b[39m-\u001b[39m\u001b[39m1\u001b[39m]\n\u001b[0;32m---> 17\u001b[0m \u001b[39mreturn\u001b[39;00m parse_txt_array(src, sep, start, end, dtype, device)\n",
      "File \u001b[0;32m~/Documents/studia/eksploracja/projekt/AGH---Data-exploration---Graph-Classification/.venv/lib/python3.10/site-packages/torch_geometric/io/txt_array.py:9\u001b[0m, in \u001b[0;36mparse_txt_array\u001b[0;34m(src, sep, start, end, dtype, device)\u001b[0m\n\u001b[1;32m      6\u001b[0m \u001b[39mif\u001b[39;00m torch\u001b[39m.\u001b[39mis_floating_point(torch\u001b[39m.\u001b[39mempty(\u001b[39m0\u001b[39m, dtype\u001b[39m=\u001b[39mdtype)):\n\u001b[1;32m      7\u001b[0m     to_number \u001b[39m=\u001b[39m \u001b[39mfloat\u001b[39m\n\u001b[0;32m----> 9\u001b[0m src \u001b[39m=\u001b[39m [[to_number(x) \u001b[39mfor\u001b[39;00m x \u001b[39min\u001b[39;00m line\u001b[39m.\u001b[39msplit(sep)[start:end]] \u001b[39mfor\u001b[39;00m line \u001b[39min\u001b[39;00m src]\n\u001b[1;32m     10\u001b[0m src \u001b[39m=\u001b[39m torch\u001b[39m.\u001b[39mtensor(src)\u001b[39m.\u001b[39mto(dtype)\u001b[39m.\u001b[39msqueeze()\n\u001b[1;32m     11\u001b[0m \u001b[39mreturn\u001b[39;00m src\n",
      "File \u001b[0;32m~/Documents/studia/eksploracja/projekt/AGH---Data-exploration---Graph-Classification/.venv/lib/python3.10/site-packages/torch_geometric/io/txt_array.py:9\u001b[0m, in \u001b[0;36m<listcomp>\u001b[0;34m(.0)\u001b[0m\n\u001b[1;32m      6\u001b[0m \u001b[39mif\u001b[39;00m torch\u001b[39m.\u001b[39mis_floating_point(torch\u001b[39m.\u001b[39mempty(\u001b[39m0\u001b[39m, dtype\u001b[39m=\u001b[39mdtype)):\n\u001b[1;32m      7\u001b[0m     to_number \u001b[39m=\u001b[39m \u001b[39mfloat\u001b[39m\n\u001b[0;32m----> 9\u001b[0m src \u001b[39m=\u001b[39m [[to_number(x) \u001b[39mfor\u001b[39;00m x \u001b[39min\u001b[39;00m line\u001b[39m.\u001b[39msplit(sep)[start:end]] \u001b[39mfor\u001b[39;00m line \u001b[39min\u001b[39;00m src]\n\u001b[1;32m     10\u001b[0m src \u001b[39m=\u001b[39m torch\u001b[39m.\u001b[39mtensor(src)\u001b[39m.\u001b[39mto(dtype)\u001b[39m.\u001b[39msqueeze()\n\u001b[1;32m     11\u001b[0m \u001b[39mreturn\u001b[39;00m src\n",
      "File \u001b[0;32m~/Documents/studia/eksploracja/projekt/AGH---Data-exploration---Graph-Classification/.venv/lib/python3.10/site-packages/torch_geometric/io/txt_array.py:9\u001b[0m, in \u001b[0;36m<listcomp>\u001b[0;34m(.0)\u001b[0m\n\u001b[1;32m      6\u001b[0m \u001b[39mif\u001b[39;00m torch\u001b[39m.\u001b[39mis_floating_point(torch\u001b[39m.\u001b[39mempty(\u001b[39m0\u001b[39m, dtype\u001b[39m=\u001b[39mdtype)):\n\u001b[1;32m      7\u001b[0m     to_number \u001b[39m=\u001b[39m \u001b[39mfloat\u001b[39m\n\u001b[0;32m----> 9\u001b[0m src \u001b[39m=\u001b[39m [[to_number(x) \u001b[39mfor\u001b[39;00m x \u001b[39min\u001b[39;00m line\u001b[39m.\u001b[39msplit(sep)[start:end]] \u001b[39mfor\u001b[39;00m line \u001b[39min\u001b[39;00m src]\n\u001b[1;32m     10\u001b[0m src \u001b[39m=\u001b[39m torch\u001b[39m.\u001b[39mtensor(src)\u001b[39m.\u001b[39mto(dtype)\u001b[39m.\u001b[39msqueeze()\n\u001b[1;32m     11\u001b[0m \u001b[39mreturn\u001b[39;00m src\n",
      "\u001b[0;31mKeyboardInterrupt\u001b[0m: "
     ]
    }
   ],
   "source": [
    "from torch_geometric.datasets import TUDataset\n",
    "\n",
    "ROOT_DATA_PATH = \"../data\"\n",
    "\n",
    "# Social networks\n",
    "imdb_binary_dataset = TUDataset(root=ROOT_DATA_PATH, name=\"IMDB-BINARY\")\n",
    "imdb_multi_dataset = TUDataset(root=ROOT_DATA_PATH, name=\"IMDB-MULTI\")\n",
    "reddit_binary_dataset = TUDataset(root=ROOT_DATA_PATH, name=\"REDDIT-BINARY\")\n",
    "reddit_multi_5k_dataset = TUDataset(root=ROOT_DATA_PATH, name=\"REDDIT-MULTI-5K\")\n",
    "reddit_multi_12k_dataset = TUDataset(root=ROOT_DATA_PATH, name=\"REDDIT-MULTI-12K\")\n",
    "collab_dataset = TUDataset(root=ROOT_DATA_PATH, name=\"COLLAB\")\n",
    "# Bioinformatics\n",
    "enzymes_dataset = TUDataset(root=ROOT_DATA_PATH, name=\"ENZYMES\")\n",
    "proteins_dataset = TUDataset(root=ROOT_DATA_PATH, name=\"PROTEINS\")\n",
    "# Small molecules\n",
    "aids_dataset = TUDataset(root=ROOT_DATA_PATH, name=\"AIDS\")\n",
    "# Computer vision\n",
    "coildeg_dataset = TUDataset(root=ROOT_DATA_PATH, name=\"COIL-DEL\")\n",
    "# Synthetic\n",
    "synthetic_dataset = TUDataset(root=ROOT_DATA_PATH, name=\"SYNTHETIC\")\n",
    "\n",
    "\n",
    "# do pobrania jeszcze dataset z cząsteczkami stąd: https://ogb.stanford.edu/docs/graphprop/#pyg"
   ]
  },
  {
   "cell_type": "code",
   "execution_count": 11,
   "metadata": {},
   "outputs": [],
   "source": [
    "HYPERPARAMS = {\n",
    "    'n_bin': 30,  # number of bins for historgram\n",
    "    'norm_flag': 'no',  # normalize before calling function_basis versus normalize after\n",
    "    'nonlinear_flag': 'True',  # SVM linear kernel versus nonlinear kernel\n",
    "    'uniform_flag': True,  # unform versus log scale. True for imdb, False for reddit.\n",
    "    'cdf_flag': True,  # cdf versus pdf. True for most dataset.\n",
    "    'his_norm_flag': 'yes'\n",
    "}"
   ]
  },
  {
   "cell_type": "code",
   "execution_count": 12,
   "metadata": {},
   "outputs": [
    {
     "name": "stderr",
     "output_type": "stream",
     "text": [
      "/home/piotr/Documents/studia/eksploracja/projekt/AGH---Data-exploration---Graph-Classification/originalPaper/code/graph.py:103: RuntimeWarning: Precision loss occurred in moment calculation due to catastrophic cancellation. This occurs when the data are nearly identical. Results may be unreliable.\n",
      "  g._node[i][key_kurtosis] = kurtosis(nbrs_deg)\n",
      "/home/piotr/Documents/studia/eksploracja/projekt/AGH---Data-exploration---Graph-Classification/originalPaper/code/graph.py:104: RuntimeWarning: Precision loss occurred in moment calculation due to catastrophic cancellation. This occurs when the data are nearly identical. Results may be unreliable.\n",
      "  g._node[i][key_skew] = skew(nbrs_deg)\n"
     ]
    },
    {
     "name": "stdout",
     "output_type": "stream",
     "text": [
      "imdb_binary\n",
      "Evaluating with SVM\n",
      "Cross val score accuracy: 0.7254999999999999\n",
      "Cross val score f1: 0.7221924477378039\n",
      "Holdout Accuracy: 0.7295\n",
      "Holdout F1 score: 0.7247174228378566\n",
      "'evaluate_svm'  10.65 s\n"
     ]
    }
   ],
   "source": [
    "from main import evaluate\n",
    "\n",
    "evaluate(dataset=\"imdb_binary\", classifier='svm', baseline='ldp', hyperparams=HYPERPARAMS)"
   ]
  },
  {
   "cell_type": "code",
   "execution_count": 13,
   "metadata": {},
   "outputs": [
    {
     "name": "stderr",
     "output_type": "stream",
     "text": [
      "/home/piotr/Documents/studia/eksploracja/projekt/AGH---Data-exploration---Graph-Classification/originalPaper/code/graph.py:103: RuntimeWarning: Precision loss occurred in moment calculation due to catastrophic cancellation. This occurs when the data are nearly identical. Results may be unreliable.\n",
      "  g._node[i][key_kurtosis] = kurtosis(nbrs_deg)\n",
      "/home/piotr/Documents/studia/eksploracja/projekt/AGH---Data-exploration---Graph-Classification/originalPaper/code/graph.py:104: RuntimeWarning: Precision loss occurred in moment calculation due to catastrophic cancellation. This occurs when the data are nearly identical. Results may be unreliable.\n",
      "  g._node[i][key_skew] = skew(nbrs_deg)\n"
     ]
    },
    {
     "name": "stdout",
     "output_type": "stream",
     "text": [
      "imdb_binary\n",
      "Evaluating with SVM\n",
      "Cross val score accuracy: 0.7436\n",
      "Cross val score f1: 0.7484955430813338\n",
      "Holdout Accuracy: 0.746\n",
      "Holdout F1 score: 0.7619012461304894\n",
      "'evaluate_svm'  33.29 s\n"
     ]
    }
   ],
   "source": [
    "from main import evaluate\n",
    "\n",
    "evaluate(dataset=\"imdb_binary\", classifier='svm', baseline='ldp_extended', hyperparams=HYPERPARAMS)"
   ]
  },
  {
   "cell_type": "code",
   "execution_count": 14,
   "metadata": {},
   "outputs": [
    {
     "name": "stderr",
     "output_type": "stream",
     "text": [
      "/home/piotr/Documents/studia/eksploracja/projekt/AGH---Data-exploration---Graph-Classification/originalPaper/code/graph.py:103: RuntimeWarning: Precision loss occurred in moment calculation due to catastrophic cancellation. This occurs when the data are nearly identical. Results may be unreliable.\n",
      "  g._node[i][key_kurtosis] = kurtosis(nbrs_deg)\n",
      "/home/piotr/Documents/studia/eksploracja/projekt/AGH---Data-exploration---Graph-Classification/originalPaper/code/graph.py:104: RuntimeWarning: Precision loss occurred in moment calculation due to catastrophic cancellation. This occurs when the data are nearly identical. Results may be unreliable.\n",
      "  g._node[i][key_skew] = skew(nbrs_deg)\n"
     ]
    },
    {
     "ename": "KeyError",
     "evalue": "'average_path'",
     "output_type": "error",
     "traceback": [
      "\u001b[0;31m---------------------------------------------------------------------------\u001b[0m",
      "\u001b[0;31mKeyError\u001b[0m                                  Traceback (most recent call last)",
      "Cell \u001b[0;32mIn[14], line 1\u001b[0m\n\u001b[0;32m----> 1\u001b[0m evaluate(dataset\u001b[39m=\u001b[39;49m\u001b[39m\"\u001b[39;49m\u001b[39mimdb_binary\u001b[39;49m\u001b[39m\"\u001b[39;49m, classifier\u001b[39m=\u001b[39;49m\u001b[39m'\u001b[39;49m\u001b[39msvm\u001b[39;49m\u001b[39m'\u001b[39;49m, baseline\u001b[39m=\u001b[39;49m\u001b[39m'\u001b[39;49m\u001b[39mldp_extended2\u001b[39;49m\u001b[39m'\u001b[39;49m, hyperparams\u001b[39m=\u001b[39;49mHYPERPARAMS)\n",
      "File \u001b[0;32m~/Documents/studia/eksploracja/projekt/AGH---Data-exploration---Graph-Classification/originalPaper/code/main.py:19\u001b[0m, in \u001b[0;36mevaluate\u001b[0;34m(dataset, classifier, baseline, hyperparams)\u001b[0m\n\u001b[1;32m     17\u001b[0m \u001b[39melse\u001b[39;00m:\n\u001b[1;32m     18\u001b[0m     graphs, labels \u001b[39m=\u001b[39m load_graph_tudataset(dataset)\n\u001b[0;32m---> 19\u001b[0m x, y \u001b[39m=\u001b[39m convert_graphs_to_vectors(dataset, graphs, labels, baseline, hyperparams\u001b[39m=\u001b[39;49mhyperparams)\n\u001b[1;32m     20\u001b[0m evaluate_with_classifier(classifier, dataset, x, y)\n",
      "File \u001b[0;32m~/Documents/studia/eksploracja/projekt/AGH---Data-exploration---Graph-Classification/originalPaper/code/main.py:31\u001b[0m, in \u001b[0;36mconvert_graphs_to_vectors\u001b[0;34m(dataset, graphs, labels, baseline, hyperparams)\u001b[0m\n\u001b[1;32m     29\u001b[0m     \u001b[39mreturn\u001b[39;00m convert_to_vectors_ldp(dataset, graphs, labels, hyperparams, extended\u001b[39m=\u001b[39m\u001b[39mTrue\u001b[39;00m)\n\u001b[1;32m     30\u001b[0m \u001b[39melif\u001b[39;00m baseline \u001b[39m==\u001b[39m \u001b[39m'\u001b[39m\u001b[39mldp_extended2\u001b[39m\u001b[39m'\u001b[39m:\n\u001b[0;32m---> 31\u001b[0m     \u001b[39mreturn\u001b[39;00m convert_to_vectors_ldp(dataset, graphs, labels, hyperparams, extended\u001b[39m=\u001b[39;49m\u001b[39mFalse\u001b[39;49;00m, extended2\u001b[39m=\u001b[39;49m\u001b[39mTrue\u001b[39;49;00m)\n\u001b[1;32m     32\u001b[0m \u001b[39melif\u001b[39;00m baseline \u001b[39m==\u001b[39m \u001b[39m'\u001b[39m\u001b[39mldp_extended_full\u001b[39m\u001b[39m'\u001b[39m:\n\u001b[1;32m     33\u001b[0m     \u001b[39mreturn\u001b[39;00m convert_to_vectors_ldp(dataset, graphs, labels, hyperparams, extended\u001b[39m=\u001b[39m\u001b[39mTrue\u001b[39;00m, extended2\u001b[39m=\u001b[39m\u001b[39mTrue\u001b[39;00m)\n",
      "File \u001b[0;32m~/Documents/studia/eksploracja/projekt/AGH---Data-exploration---Graph-Classification/originalPaper/code/baselines.py:64\u001b[0m, in \u001b[0;36mconvert_to_vectors_ldp\u001b[0;34m(dataset, graphs, labels, hyperparams, extended, extended2)\u001b[0m\n\u001b[1;32m     61\u001b[0m features \u001b[39m=\u001b[39m base_features\u001b[39m+\u001b[39mextended_features \u001b[39mif\u001b[39;00m extended \u001b[39melse\u001b[39;00m base_features\n\u001b[1;32m     62\u001b[0m features \u001b[39m=\u001b[39m base_features\u001b[39m+\u001b[39mextended2_features \u001b[39mif\u001b[39;00m extended2 \u001b[39melse\u001b[39;00m features\n\u001b[0;32m---> 64\u001b[0m x_original \u001b[39m=\u001b[39m merge_features(\n\u001b[1;32m     65\u001b[0m     dataset, \n\u001b[1;32m     66\u001b[0m     vectors,\n\u001b[1;32m     67\u001b[0m     allowed\u001b[39m=\u001b[39;49mfeatures,\n\u001b[1;32m     68\u001b[0m     n_bin\u001b[39m=\u001b[39;49mhyperparams[\u001b[39m'\u001b[39;49m\u001b[39mn_bin\u001b[39;49m\u001b[39m'\u001b[39;49m], \n\u001b[1;32m     69\u001b[0m     his_norm_flag\u001b[39m=\u001b[39;49mhyperparams[\u001b[39m'\u001b[39;49m\u001b[39mhis_norm_flag\u001b[39;49m\u001b[39m'\u001b[39;49m], \n\u001b[1;32m     70\u001b[0m     cdf_flag\u001b[39m=\u001b[39;49mhyperparams[\u001b[39m'\u001b[39;49m\u001b[39mcdf_flag\u001b[39;49m\u001b[39m'\u001b[39;49m], \n\u001b[1;32m     71\u001b[0m     uniform_flag\u001b[39m=\u001b[39;49mhyperparams[\u001b[39m'\u001b[39;49m\u001b[39muniform_flag\u001b[39;49m\u001b[39m'\u001b[39;49m]\n\u001b[1;32m     72\u001b[0m )\n\u001b[1;32m     74\u001b[0m \u001b[39mif\u001b[39;00m norm_flag\u001b[39m==\u001b[39m\u001b[39m'\u001b[39m\u001b[39myes\u001b[39m\u001b[39m'\u001b[39m:\n\u001b[1;32m     75\u001b[0m     x \u001b[39m=\u001b[39m normalize(x_original, axis \u001b[39m=\u001b[39m \u001b[39m1\u001b[39m)\n",
      "File \u001b[0;32m~/Documents/studia/eksploracja/projekt/AGH---Data-exploration---Graph-Classification/originalPaper/code/tunning.py:95\u001b[0m, in \u001b[0;36mmerge_features\u001b[0;34m(graph, graphs_, allowed, n_bin, his_norm_flag, edge_flag, cdf_flag, uniform_flag)\u001b[0m\n\u001b[1;32m     93\u001b[0m         tmp \u001b[39m=\u001b[39m hisgram_single_feature(graphs_, n_bin, key, his_norm_flag\u001b[39m=\u001b[39mhis_norm_flag, edge_flag\u001b[39m=\u001b[39medge_flag, cdf_flag\u001b[39m=\u001b[39mcdf_flag, uniform_flag\u001b[39m=\u001b[39muniform_flag)\n\u001b[1;32m     94\u001b[0m     \u001b[39melse\u001b[39;00m:\n\u001b[0;32m---> 95\u001b[0m         tmp \u001b[39m=\u001b[39m hisgram_single_feature(graphs_, n_bin, key, his_norm_flag\u001b[39m=\u001b[39;49mhis_norm_flag, edge_flag\u001b[39m=\u001b[39;49medge_flag, cdf_flag\u001b[39m=\u001b[39;49mcdf_flag, uniform_flag\u001b[39m=\u001b[39;49muniform_flag, lowerbound\u001b[39m=\u001b[39;49m\u001b[39m0\u001b[39;49m)\n\u001b[1;32m     96\u001b[0m     X \u001b[39m=\u001b[39m np\u001b[39m.\u001b[39mappend(X, tmp, axis\u001b[39m=\u001b[39m\u001b[39m1\u001b[39m)\n\u001b[1;32m     97\u001b[0m \u001b[39mreturn\u001b[39;00m remove_zero_col(X[:,\u001b[39m1\u001b[39m:])\n",
      "File \u001b[0;32m~/Documents/studia/eksploracja/projekt/AGH---Data-exploration---Graph-Classification/originalPaper/code/tunning.py:33\u001b[0m, in \u001b[0;36mhisgram_single_feature\u001b[0;34m(graphs_, n_bin, key, his_norm_flag, edge_flag, lowerbound, upperbound, cdf_flag, uniform_flag)\u001b[0m\n\u001b[1;32m     31\u001b[0m feature_vec \u001b[39m=\u001b[39m np\u001b[39m.\u001b[39mzeros((n, n_bin))\n\u001b[1;32m     32\u001b[0m \u001b[39mfor\u001b[39;00m i \u001b[39min\u001b[39;00m \u001b[39mrange\u001b[39m(n):\n\u001b[0;32m---> 33\u001b[0m     lis \u001b[39m=\u001b[39m functionongraph(graphs_, i, key, edge_flag\u001b[39m=\u001b[39;49medge_flag)\n\u001b[1;32m     34\u001b[0m     \u001b[39mif\u001b[39;00m lis \u001b[39m==\u001b[39m []:\n\u001b[1;32m     35\u001b[0m         feature_vec[i] \u001b[39m=\u001b[39m \u001b[39m0\u001b[39m\n",
      "File \u001b[0;32m~/Documents/studia/eksploracja/projekt/AGH---Data-exploration---Graph-Classification/originalPaper/code/tunning.py:24\u001b[0m, in \u001b[0;36mfunctionongraph\u001b[0;34m(graphs_, i, key, edge_flag)\u001b[0m\n\u001b[1;32m     21\u001b[0m             \u001b[39mprint\u001b[39m(\u001b[39m'\u001b[39m\u001b[39mUnconsidered Cases in function on graph\u001b[39m\u001b[39m'\u001b[39m)\n\u001b[1;32m     23\u001b[0m     \u001b[39mif\u001b[39;00m edge_flag\u001b[39m==\u001b[39m\u001b[39mFalse\u001b[39;00m:\n\u001b[0;32m---> 24\u001b[0m         tmp \u001b[39m=\u001b[39m [g\u001b[39m.\u001b[39mnodes[k][key] \u001b[39mfor\u001b[39;00m k \u001b[39min\u001b[39;00m g\u001b[39m.\u001b[39mnodes]\n\u001b[1;32m     25\u001b[0m     lis \u001b[39m+\u001b[39m\u001b[39m=\u001b[39m tmp\n\u001b[1;32m     26\u001b[0m \u001b[39mreturn\u001b[39;00m lis\n",
      "File \u001b[0;32m~/Documents/studia/eksploracja/projekt/AGH---Data-exploration---Graph-Classification/originalPaper/code/tunning.py:24\u001b[0m, in \u001b[0;36m<listcomp>\u001b[0;34m(.0)\u001b[0m\n\u001b[1;32m     21\u001b[0m             \u001b[39mprint\u001b[39m(\u001b[39m'\u001b[39m\u001b[39mUnconsidered Cases in function on graph\u001b[39m\u001b[39m'\u001b[39m)\n\u001b[1;32m     23\u001b[0m     \u001b[39mif\u001b[39;00m edge_flag\u001b[39m==\u001b[39m\u001b[39mFalse\u001b[39;00m:\n\u001b[0;32m---> 24\u001b[0m         tmp \u001b[39m=\u001b[39m [g\u001b[39m.\u001b[39;49mnodes[k][key] \u001b[39mfor\u001b[39;00m k \u001b[39min\u001b[39;00m g\u001b[39m.\u001b[39mnodes]\n\u001b[1;32m     25\u001b[0m     lis \u001b[39m+\u001b[39m\u001b[39m=\u001b[39m tmp\n\u001b[1;32m     26\u001b[0m \u001b[39mreturn\u001b[39;00m lis\n",
      "\u001b[0;31mKeyError\u001b[0m: 'average_path'"
     ]
    }
   ],
   "source": [
    "evaluate(dataset=\"imdb_binary\", classifier='svm', baseline='ldp_extended2', hyperparams=HYPERPARAMS)"
   ]
  },
  {
   "cell_type": "code",
   "execution_count": null,
   "metadata": {},
   "outputs": [],
   "source": [
    "evaluate(dataset=\"imdb_binary\", classifier='svm', baseline='ldp_extended_full', hyperparams=HYPERPARAMS)"
   ]
  },
  {
   "cell_type": "code",
   "execution_count": null,
   "metadata": {},
   "outputs": [
    {
     "name": "stdout",
     "output_type": "stream",
     "text": [
      "Loading graph from dataset imdb_binary\n",
      "#\n",
      "#\n",
      "#\n",
      "#\n",
      "#\n",
      "#\n",
      "#\n",
      "#\n",
      "#\n",
      "#\n",
      "#\n",
      "#\n",
      "#\n",
      "#\n",
      "#\n",
      "#\n",
      "#\n",
      "#\n",
      "#\n",
      "#\n",
      "Number of bins are 30\n",
      "the shape after removing zero columns is  (1000, 145)\n",
      "Evaluating with Random Forest\n",
      "Accuracy: 0.715\n"
     ]
    }
   ],
   "source": [
    "evaluate(dataset=\"imdb_binary\", classifier='random_forest', baseline='ldp', hyperparams=HYPERPARAMS)"
   ]
  }
 ],
 "metadata": {
  "colab": {
   "provenance": []
  },
  "kernelspec": {
   "display_name": "Python 3 (ipykernel)",
   "language": "python",
   "name": "python3"
  },
  "language_info": {
   "codemirror_mode": {
    "name": "ipython",
    "version": 3
   },
   "file_extension": ".py",
   "mimetype": "text/x-python",
   "name": "python",
   "nbconvert_exporter": "python",
   "pygments_lexer": "ipython3",
   "version": "3.10.6"
  }
 },
 "nbformat": 4,
 "nbformat_minor": 1
}
