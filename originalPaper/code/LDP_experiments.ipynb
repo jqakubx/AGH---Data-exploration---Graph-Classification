{
 "cells": [
  {
   "cell_type": "code",
   "execution_count": 1,
   "metadata": {
    "colab": {
     "base_uri": "https://localhost:8080/"
    },
    "id": "bZff0VkNdGY8",
    "outputId": "64f7b3c5-95e3-44c5-c72e-683ec63ad6c4"
   },
   "outputs": [
    {
     "name": "stdout",
     "output_type": "stream",
     "text": [
      "Requirement already satisfied: scikit-learn in /home/piotr/Documents/studia/eksploracja/projekt/AGH---Data-exploration---Graph-Classification/.venv/lib/python3.10/site-packages (1.2.2)\n",
      "Requirement already satisfied: numpy in /home/piotr/Documents/studia/eksploracja/projekt/AGH---Data-exploration---Graph-Classification/.venv/lib/python3.10/site-packages (1.24.2)\n",
      "Requirement already satisfied: matplotlib in /home/piotr/Documents/studia/eksploracja/projekt/AGH---Data-exploration---Graph-Classification/.venv/lib/python3.10/site-packages (3.7.1)\n",
      "Requirement already satisfied: networkx in /home/piotr/Documents/studia/eksploracja/projekt/AGH---Data-exploration---Graph-Classification/.venv/lib/python3.10/site-packages (3.0)\n",
      "Requirement already satisfied: pandas in /home/piotr/Documents/studia/eksploracja/projekt/AGH---Data-exploration---Graph-Classification/.venv/lib/python3.10/site-packages (1.5.3)\n",
      "Requirement already satisfied: scipy in /home/piotr/Documents/studia/eksploracja/projekt/AGH---Data-exploration---Graph-Classification/.venv/lib/python3.10/site-packages (1.10.1)\n",
      "Requirement already satisfied: torch in /home/piotr/Documents/studia/eksploracja/projekt/AGH---Data-exploration---Graph-Classification/.venv/lib/python3.10/site-packages (2.0.0)\n",
      "Requirement already satisfied: statsmodels in /home/piotr/Documents/studia/eksploracja/projekt/AGH---Data-exploration---Graph-Classification/.venv/lib/python3.10/site-packages (0.13.5)\n",
      "Requirement already satisfied: threadpoolctl>=2.0.0 in /home/piotr/Documents/studia/eksploracja/projekt/AGH---Data-exploration---Graph-Classification/.venv/lib/python3.10/site-packages (from scikit-learn) (3.1.0)\n",
      "Requirement already satisfied: joblib>=1.1.1 in /home/piotr/Documents/studia/eksploracja/projekt/AGH---Data-exploration---Graph-Classification/.venv/lib/python3.10/site-packages (from scikit-learn) (1.2.0)\n",
      "Requirement already satisfied: fonttools>=4.22.0 in /home/piotr/Documents/studia/eksploracja/projekt/AGH---Data-exploration---Graph-Classification/.venv/lib/python3.10/site-packages (from matplotlib) (4.39.2)\n",
      "Requirement already satisfied: contourpy>=1.0.1 in /home/piotr/Documents/studia/eksploracja/projekt/AGH---Data-exploration---Graph-Classification/.venv/lib/python3.10/site-packages (from matplotlib) (1.0.7)\n",
      "Requirement already satisfied: pyparsing>=2.3.1 in /home/piotr/Documents/studia/eksploracja/projekt/AGH---Data-exploration---Graph-Classification/.venv/lib/python3.10/site-packages (from matplotlib) (3.0.9)\n",
      "Requirement already satisfied: python-dateutil>=2.7 in /home/piotr/Documents/studia/eksploracja/projekt/AGH---Data-exploration---Graph-Classification/.venv/lib/python3.10/site-packages (from matplotlib) (2.8.2)\n",
      "Requirement already satisfied: packaging>=20.0 in /home/piotr/Documents/studia/eksploracja/projekt/AGH---Data-exploration---Graph-Classification/.venv/lib/python3.10/site-packages (from matplotlib) (23.0)\n",
      "Requirement already satisfied: pillow>=6.2.0 in /home/piotr/Documents/studia/eksploracja/projekt/AGH---Data-exploration---Graph-Classification/.venv/lib/python3.10/site-packages (from matplotlib) (9.4.0)\n",
      "Requirement already satisfied: kiwisolver>=1.0.1 in /home/piotr/Documents/studia/eksploracja/projekt/AGH---Data-exploration---Graph-Classification/.venv/lib/python3.10/site-packages (from matplotlib) (1.4.4)\n",
      "Requirement already satisfied: cycler>=0.10 in /home/piotr/Documents/studia/eksploracja/projekt/AGH---Data-exploration---Graph-Classification/.venv/lib/python3.10/site-packages (from matplotlib) (0.11.0)\n",
      "Requirement already satisfied: pytz>=2020.1 in /home/piotr/Documents/studia/eksploracja/projekt/AGH---Data-exploration---Graph-Classification/.venv/lib/python3.10/site-packages (from pandas) (2023.2)\n",
      "Requirement already satisfied: sympy in /home/piotr/Documents/studia/eksploracja/projekt/AGH---Data-exploration---Graph-Classification/.venv/lib/python3.10/site-packages (from torch) (1.11.1)\n",
      "Requirement already satisfied: jinja2 in /home/piotr/Documents/studia/eksploracja/projekt/AGH---Data-exploration---Graph-Classification/.venv/lib/python3.10/site-packages (from torch) (3.1.2)\n",
      "Requirement already satisfied: nvidia-cuda-runtime-cu11==11.7.99 in /home/piotr/Documents/studia/eksploracja/projekt/AGH---Data-exploration---Graph-Classification/.venv/lib/python3.10/site-packages (from torch) (11.7.99)\n",
      "Requirement already satisfied: filelock in /home/piotr/Documents/studia/eksploracja/projekt/AGH---Data-exploration---Graph-Classification/.venv/lib/python3.10/site-packages (from torch) (3.10.4)\n",
      "Requirement already satisfied: typing-extensions in /home/piotr/Documents/studia/eksploracja/projekt/AGH---Data-exploration---Graph-Classification/.venv/lib/python3.10/site-packages (from torch) (4.5.0)\n",
      "Requirement already satisfied: nvidia-cudnn-cu11==8.5.0.96 in /home/piotr/Documents/studia/eksploracja/projekt/AGH---Data-exploration---Graph-Classification/.venv/lib/python3.10/site-packages (from torch) (8.5.0.96)\n",
      "Requirement already satisfied: nvidia-cusolver-cu11==11.4.0.1 in /home/piotr/Documents/studia/eksploracja/projekt/AGH---Data-exploration---Graph-Classification/.venv/lib/python3.10/site-packages (from torch) (11.4.0.1)\n",
      "Requirement already satisfied: nvidia-nccl-cu11==2.14.3 in /home/piotr/Documents/studia/eksploracja/projekt/AGH---Data-exploration---Graph-Classification/.venv/lib/python3.10/site-packages (from torch) (2.14.3)\n",
      "Requirement already satisfied: nvidia-cusparse-cu11==11.7.4.91 in /home/piotr/Documents/studia/eksploracja/projekt/AGH---Data-exploration---Graph-Classification/.venv/lib/python3.10/site-packages (from torch) (11.7.4.91)\n",
      "Requirement already satisfied: nvidia-curand-cu11==10.2.10.91 in /home/piotr/Documents/studia/eksploracja/projekt/AGH---Data-exploration---Graph-Classification/.venv/lib/python3.10/site-packages (from torch) (10.2.10.91)\n",
      "Requirement already satisfied: triton==2.0.0 in /home/piotr/Documents/studia/eksploracja/projekt/AGH---Data-exploration---Graph-Classification/.venv/lib/python3.10/site-packages (from torch) (2.0.0)\n",
      "Requirement already satisfied: nvidia-cublas-cu11==11.10.3.66 in /home/piotr/Documents/studia/eksploracja/projekt/AGH---Data-exploration---Graph-Classification/.venv/lib/python3.10/site-packages (from torch) (11.10.3.66)\n",
      "Requirement already satisfied: nvidia-nvtx-cu11==11.7.91 in /home/piotr/Documents/studia/eksploracja/projekt/AGH---Data-exploration---Graph-Classification/.venv/lib/python3.10/site-packages (from torch) (11.7.91)\n",
      "Requirement already satisfied: nvidia-cufft-cu11==10.9.0.58 in /home/piotr/Documents/studia/eksploracja/projekt/AGH---Data-exploration---Graph-Classification/.venv/lib/python3.10/site-packages (from torch) (10.9.0.58)\n",
      "Requirement already satisfied: nvidia-cuda-cupti-cu11==11.7.101 in /home/piotr/Documents/studia/eksploracja/projekt/AGH---Data-exploration---Graph-Classification/.venv/lib/python3.10/site-packages (from torch) (11.7.101)\n",
      "Requirement already satisfied: nvidia-cuda-nvrtc-cu11==11.7.99 in /home/piotr/Documents/studia/eksploracja/projekt/AGH---Data-exploration---Graph-Classification/.venv/lib/python3.10/site-packages (from torch) (11.7.99)\n",
      "Requirement already satisfied: setuptools in /home/piotr/Documents/studia/eksploracja/projekt/AGH---Data-exploration---Graph-Classification/.venv/lib/python3.10/site-packages (from nvidia-cublas-cu11==11.10.3.66->torch) (67.4.0)\n",
      "Requirement already satisfied: wheel in /home/piotr/Documents/studia/eksploracja/projekt/AGH---Data-exploration---Graph-Classification/.venv/lib/python3.10/site-packages (from nvidia-cublas-cu11==11.10.3.66->torch) (0.38.4)\n",
      "Requirement already satisfied: cmake in /home/piotr/Documents/studia/eksploracja/projekt/AGH---Data-exploration---Graph-Classification/.venv/lib/python3.10/site-packages (from triton==2.0.0->torch) (3.26.1)\n",
      "Requirement already satisfied: lit in /home/piotr/Documents/studia/eksploracja/projekt/AGH---Data-exploration---Graph-Classification/.venv/lib/python3.10/site-packages (from triton==2.0.0->torch) (16.0.0)\n",
      "Requirement already satisfied: patsy>=0.5.2 in /home/piotr/Documents/studia/eksploracja/projekt/AGH---Data-exploration---Graph-Classification/.venv/lib/python3.10/site-packages (from statsmodels) (0.5.3)\n",
      "Requirement already satisfied: six in /home/piotr/Documents/studia/eksploracja/projekt/AGH---Data-exploration---Graph-Classification/.venv/lib/python3.10/site-packages (from patsy>=0.5.2->statsmodels) (1.16.0)\n",
      "Requirement already satisfied: MarkupSafe>=2.0 in /home/piotr/Documents/studia/eksploracja/projekt/AGH---Data-exploration---Graph-Classification/.venv/lib/python3.10/site-packages (from jinja2->torch) (2.1.2)\n",
      "Requirement already satisfied: mpmath>=0.19 in /home/piotr/Documents/studia/eksploracja/projekt/AGH---Data-exploration---Graph-Classification/.venv/lib/python3.10/site-packages (from sympy->torch) (1.3.0)\n",
      "\n",
      "\u001B[1m[\u001B[0m\u001B[34;49mnotice\u001B[0m\u001B[1;39;49m]\u001B[0m\u001B[39;49m A new release of pip is available: \u001B[0m\u001B[31;49m23.0.1\u001B[0m\u001B[39;49m -> \u001B[0m\u001B[32;49m23.1\u001B[0m\n",
      "\u001B[1m[\u001B[0m\u001B[34;49mnotice\u001B[0m\u001B[1;39;49m]\u001B[0m\u001B[39;49m To update, run: \u001B[0m\u001B[32;49mpip install --upgrade pip\u001B[0m\n",
      "Note: you may need to restart the kernel to use updated packages.\n"
     ]
    }
   ],
   "source": [
    "%pip install scikit-learn numpy matplotlib networkx pandas scipy torch statsmodels\n"
   ]
  },
  {
   "cell_type": "code",
   "execution_count": 2,
   "metadata": {},
   "outputs": [
    {
     "name": "stdout",
     "output_type": "stream",
     "text": [
      "11.7\n"
     ]
    }
   ],
   "source": [
    "import torch\n",
    "print(torch.version.cuda)"
   ]
  },
  {
   "cell_type": "code",
   "execution_count": 3,
   "metadata": {},
   "outputs": [
    {
     "name": "stdout",
     "output_type": "stream",
     "text": [
      "Looking in links: https://data.pyg.org/whl/torch-1.13.0+cu117.html\n",
      "Requirement already satisfied: pyg_lib in /home/piotr/Documents/studia/eksploracja/projekt/AGH---Data-exploration---Graph-Classification/.venv/lib/python3.10/site-packages (0.2.0+pt113cu117)\n",
      "Requirement already satisfied: torch_scatter in /home/piotr/Documents/studia/eksploracja/projekt/AGH---Data-exploration---Graph-Classification/.venv/lib/python3.10/site-packages (2.1.1+pt113cu117)\n",
      "Requirement already satisfied: torch_sparse in /home/piotr/Documents/studia/eksploracja/projekt/AGH---Data-exploration---Graph-Classification/.venv/lib/python3.10/site-packages (0.6.17+pt113cu117)\n",
      "Requirement already satisfied: scipy in /home/piotr/Documents/studia/eksploracja/projekt/AGH---Data-exploration---Graph-Classification/.venv/lib/python3.10/site-packages (from torch_sparse) (1.10.1)\n",
      "Requirement already satisfied: numpy<1.27.0,>=1.19.5 in /home/piotr/Documents/studia/eksploracja/projekt/AGH---Data-exploration---Graph-Classification/.venv/lib/python3.10/site-packages (from scipy->torch_sparse) (1.24.2)\n",
      "\n",
      "\u001B[1m[\u001B[0m\u001B[34;49mnotice\u001B[0m\u001B[1;39;49m]\u001B[0m\u001B[39;49m A new release of pip is available: \u001B[0m\u001B[31;49m23.0.1\u001B[0m\u001B[39;49m -> \u001B[0m\u001B[32;49m23.1\u001B[0m\n",
      "\u001B[1m[\u001B[0m\u001B[34;49mnotice\u001B[0m\u001B[1;39;49m]\u001B[0m\u001B[39;49m To update, run: \u001B[0m\u001B[32;49mpip install --upgrade pip\u001B[0m\n",
      "Note: you may need to restart the kernel to use updated packages.\n"
     ]
    }
   ],
   "source": [
    "%pip install pyg_lib torch_scatter torch_sparse -f https://data.pyg.org/whl/torch-1.13.0+cu117.html\n",
    "# tu trzeba wpisać odpowiednią wersję CUDA, patrz: https://pytorch-geometric.readthedocs.io/en/latest/install/installation.html"
   ]
  },
  {
   "cell_type": "code",
   "execution_count": 4,
   "metadata": {},
   "outputs": [
    {
     "name": "stdout",
     "output_type": "stream",
     "text": [
      "Requirement already satisfied: torch-geometric in /home/piotr/Documents/studia/eksploracja/projekt/AGH---Data-exploration---Graph-Classification/.venv/lib/python3.10/site-packages (2.3.0)\n",
      "Requirement already satisfied: requests in /home/piotr/Documents/studia/eksploracja/projekt/AGH---Data-exploration---Graph-Classification/.venv/lib/python3.10/site-packages (from torch-geometric) (2.28.2)\n",
      "Requirement already satisfied: scikit-learn in /home/piotr/Documents/studia/eksploracja/projekt/AGH---Data-exploration---Graph-Classification/.venv/lib/python3.10/site-packages (from torch-geometric) (1.2.2)\n",
      "Requirement already satisfied: jinja2 in /home/piotr/Documents/studia/eksploracja/projekt/AGH---Data-exploration---Graph-Classification/.venv/lib/python3.10/site-packages (from torch-geometric) (3.1.2)\n",
      "Requirement already satisfied: numpy in /home/piotr/Documents/studia/eksploracja/projekt/AGH---Data-exploration---Graph-Classification/.venv/lib/python3.10/site-packages (from torch-geometric) (1.24.2)\n",
      "Requirement already satisfied: tqdm in /home/piotr/Documents/studia/eksploracja/projekt/AGH---Data-exploration---Graph-Classification/.venv/lib/python3.10/site-packages (from torch-geometric) (4.65.0)\n",
      "Requirement already satisfied: psutil>=5.8.0 in /home/piotr/Documents/studia/eksploracja/projekt/AGH---Data-exploration---Graph-Classification/.venv/lib/python3.10/site-packages (from torch-geometric) (5.9.4)\n",
      "Requirement already satisfied: pyparsing in /home/piotr/Documents/studia/eksploracja/projekt/AGH---Data-exploration---Graph-Classification/.venv/lib/python3.10/site-packages (from torch-geometric) (3.0.9)\n",
      "Requirement already satisfied: scipy in /home/piotr/Documents/studia/eksploracja/projekt/AGH---Data-exploration---Graph-Classification/.venv/lib/python3.10/site-packages (from torch-geometric) (1.10.1)\n",
      "Requirement already satisfied: MarkupSafe>=2.0 in /home/piotr/Documents/studia/eksploracja/projekt/AGH---Data-exploration---Graph-Classification/.venv/lib/python3.10/site-packages (from jinja2->torch-geometric) (2.1.2)\n",
      "Requirement already satisfied: charset-normalizer<4,>=2 in /home/piotr/Documents/studia/eksploracja/projekt/AGH---Data-exploration---Graph-Classification/.venv/lib/python3.10/site-packages (from requests->torch-geometric) (3.1.0)\n",
      "Requirement already satisfied: certifi>=2017.4.17 in /home/piotr/Documents/studia/eksploracja/projekt/AGH---Data-exploration---Graph-Classification/.venv/lib/python3.10/site-packages (from requests->torch-geometric) (2022.12.7)\n",
      "Requirement already satisfied: urllib3<1.27,>=1.21.1 in /home/piotr/Documents/studia/eksploracja/projekt/AGH---Data-exploration---Graph-Classification/.venv/lib/python3.10/site-packages (from requests->torch-geometric) (1.26.15)\n",
      "Requirement already satisfied: idna<4,>=2.5 in /home/piotr/Documents/studia/eksploracja/projekt/AGH---Data-exploration---Graph-Classification/.venv/lib/python3.10/site-packages (from requests->torch-geometric) (3.4)\n",
      "Requirement already satisfied: joblib>=1.1.1 in /home/piotr/Documents/studia/eksploracja/projekt/AGH---Data-exploration---Graph-Classification/.venv/lib/python3.10/site-packages (from scikit-learn->torch-geometric) (1.2.0)\n",
      "Requirement already satisfied: threadpoolctl>=2.0.0 in /home/piotr/Documents/studia/eksploracja/projekt/AGH---Data-exploration---Graph-Classification/.venv/lib/python3.10/site-packages (from scikit-learn->torch-geometric) (3.1.0)\n",
      "\n",
      "\u001B[1m[\u001B[0m\u001B[34;49mnotice\u001B[0m\u001B[1;39;49m]\u001B[0m\u001B[39;49m A new release of pip is available: \u001B[0m\u001B[31;49m23.0.1\u001B[0m\u001B[39;49m -> \u001B[0m\u001B[32;49m23.1\u001B[0m\n",
      "\u001B[1m[\u001B[0m\u001B[34;49mnotice\u001B[0m\u001B[1;39;49m]\u001B[0m\u001B[39;49m To update, run: \u001B[0m\u001B[32;49mpip install --upgrade pip\u001B[0m\n",
      "Note: you may need to restart the kernel to use updated packages.\n"
     ]
    }
   ],
   "source": [
    "%pip install torch-geometric"
   ]
  },
  {
   "cell_type": "code",
   "execution_count": 17,
   "metadata": {},
   "outputs": [
    {
     "name": "stderr",
     "output_type": "stream",
     "text": [
      "Downloading https://www.chrsmrrs.com/graphkerneldatasets/AIDS.zip\n",
      "Extracting ..\\data\\AIDS\\AIDS.zip\n",
      "Processing...\n",
      "Done!\n",
      "Downloading https://www.chrsmrrs.com/graphkerneldatasets/COIL-DEL.zip\n",
      "Extracting ..\\data\\COIL-DEL\\COIL-DEL.zip\n",
      "Processing...\n",
      "Done!\n"
     ]
    }
   ],
   "source": [
    "from torch_geometric.datasets import TUDataset\n",
    "\n",
    "ROOT_DATA_PATH = \"../data\"\n",
    "\n",
    "# Social networks\n",
    "imdb_binary_dataset = TUDataset(root=ROOT_DATA_PATH, name=\"IMDB-BINARY\")\n",
    "imdb_multi_dataset = TUDataset(root=ROOT_DATA_PATH, name=\"IMDB-MULTI\")\n",
    "reddit_binary_dataset = TUDataset(root=ROOT_DATA_PATH, name=\"REDDIT-BINARY\")\n",
    "reddit_multi_5k_dataset = TUDataset(root=ROOT_DATA_PATH, name=\"REDDIT-MULTI-5K\")\n",
    "reddit_multi_12k_dataset = TUDataset(root=ROOT_DATA_PATH, name=\"REDDIT-MULTI-12K\")\n",
    "collab_dataset = TUDataset(root=ROOT_DATA_PATH, name=\"COLLAB\")\n",
    "# Bioinformatics\n",
    "enzymes_dataset = TUDataset(root=ROOT_DATA_PATH, name=\"ENZYMES\")\n",
    "proteins_dataset = TUDataset(root=ROOT_DATA_PATH, name=\"PROTEINS\")\n",
    "# Small molecules\n",
    "aids_dataset = TUDataset(root=ROOT_DATA_PATH, name=\"AIDS\")\n",
    "# Computer vision\n",
    "coildeg_dataset = TUDataset(root=ROOT_DATA_PATH, name=\"COIL-DEL\")\n",
    "# Synthetic\n",
    "synthetic_dataset = TUDataset(root=ROOT_DATA_PATH, name=\"SYNTHETIC\")\n",
    "\n",
    "\n",
    "# do pobrania jeszcze dataset z cząsteczkami stąd: https://ogb.stanford.edu/docs/graphprop/#pyg"
   ]
  },
  {
   "cell_type": "code",
   "execution_count": 6,
   "metadata": {},
   "outputs": [],
   "source": [
    "HYPERPARAMS = {\n",
    "    'n_bin': 30,  # number of bins for historgram\n",
    "    'norm_flag': 'no',  # normalize before calling function_basis versus normalize after\n",
    "    'nonlinear_flag': 'True',  # SVM linear kernel versus nonlinear kernel\n",
    "    'uniform_flag': True,  # unform versus log scale. True for imdb, False for reddit.\n",
    "    'cdf_flag': True,  # cdf versus pdf. True for most dataset.\n",
    "    'his_norm_flag': 'yes'\n",
    "}"
   ]
  },
  {
   "cell_type": "code",
   "execution_count": 7,
   "metadata": {},
   "outputs": [
    {
     "name": "stdout",
     "output_type": "stream",
     "text": [
      "Loading graph from dataset imdb_binary\n",
      "#\n",
      "#\n",
      "#\n",
      "#\n",
      "#\n",
      "#\n",
      "#\n",
      "#\n",
      "#\n",
      "#\n",
      "#\n",
      "#\n",
      "#\n",
      "#\n",
      "#\n",
      "#\n",
      "#\n",
      "#\n",
      "#\n",
      "#\n",
      "Number of bins are 30\n",
      "the shape after removing zero columns is  (1000, 145)\n",
      "imdb_binary\n",
      "Evaluating with SVM\n",
      "[0.77 0.73 0.75 0.78 0.69 0.69 0.67 0.76 0.74 0.69]\n",
      "[0.72 0.77 0.69 0.73 0.74 0.64 0.79 0.69 0.76 0.78]\n",
      "[0.71 0.73 0.73 0.69 0.7  0.73 0.75 0.74 0.76 0.77]\n",
      "[0.71 0.72 0.74 0.71 0.8  0.71 0.67 0.69 0.76 0.71]\n",
      "[0.71 0.75 0.78 0.73 0.77 0.71 0.7  0.7  0.69 0.73]\n",
      "[0.77 0.74 0.68 0.77 0.73 0.72 0.81 0.72 0.65 0.64]\n",
      "[0.7  0.68 0.75 0.68 0.79 0.71 0.73 0.67 0.78 0.66]\n",
      "[0.73 0.71 0.73 0.81 0.68 0.76 0.7  0.73 0.64 0.72]\n",
      "[0.74 0.79 0.66 0.76 0.69 0.74 0.77 0.76 0.7  0.67]\n",
      "[0.68 0.66 0.8  0.7  0.78 0.75 0.75 0.7  0.72 0.76]\n",
      "mean is 0.7254999999999999, std is 0.00490407993409567 \n",
      "'evaluate_svm'  7.17 s\n"
     ]
    }
   ],
   "source": [
    "from main import evaluate\n",
    "\n",
    "evaluate(dataset=\"imdb_binary\", classifier='svm', baseline='ldp', hyperparams=HYPERPARAMS)"
   ]
  },
  {
   "cell_type": "code",
   "execution_count": 14,
   "metadata": {},
   "outputs": [
    {
     "name": "stdout",
     "output_type": "stream",
     "text": [
      "Loading graph from dataset imdb_binary\n",
      "#\n",
      "#\n",
      "#\n",
      "#\n",
      "#\n",
      "#\n",
      "#\n",
      "#\n",
      "#\n",
      "#\n",
      "#\n",
      "#\n",
      "#\n",
      "#\n",
      "#\n",
      "#\n",
      "#\n",
      "#\n",
      "#\n",
      "#\n",
      "Number of bins are 30\n",
      "the shape after removing zero columns is  (1000, 145)\n",
      "LDP x: (1000, 145), y: (1000,)\n",
      "#\n",
      "#\n",
      "#\n",
      "#\n",
      "#\n",
      "#\n",
      "#\n",
      "#\n",
      "#\n",
      "#\n",
      "#\n",
      "#\n",
      "#\n",
      "#\n",
      "#\n",
      "#\n",
      "#\n",
      "#\n",
      "#\n",
      "#\n",
      "Graph invariants x: (1000, 4), y: (1000,)\n"
     ]
    }
   ],
   "source": [
    "from graph import load_graph\n",
    "from main import convert_graphs_to_vectors\n",
    "\n",
    "dataset = 'imdb_binary'\n",
    "\n",
    "graphs, labels = load_graph(dataset)\n",
    "\n",
    "x_ldp, y_ldp = convert_graphs_to_vectors(dataset, graphs, labels, baseline='ldp', hyperparams=HYPERPARAMS)\n",
    "\n",
    "print(f\"LDP x: {x_ldp.shape}, y: {y_ldp.shape}\")\n",
    "\n",
    "x_invars, y_invars = convert_graphs_to_vectors(dataset, graphs, labels, baseline='graph_invariants', hyperparams=HYPERPARAMS)\n",
    "\n",
    "print(f\"Graph invariants x: {x_invars.shape}, y: {y_invars.shape}\")"
   ]
  },
  {
   "cell_type": "code",
   "execution_count": 8,
   "metadata": {},
   "outputs": [
    {
     "name": "stdout",
     "output_type": "stream",
     "text": [
      "Loading graph from dataset imdb_binary\n",
      "#\n",
      "#\n",
      "#\n",
      "#\n",
      "#\n",
      "#\n",
      "#\n",
      "#\n",
      "#\n",
      "#\n",
      "#\n",
      "#\n",
      "#\n",
      "#\n",
      "#\n",
      "#\n",
      "#\n",
      "#\n",
      "#\n",
      "#\n",
      "Number of bins are 30\n",
      "the shape after removing zero columns is  (1000, 145)\n",
      "Evaluating with Random Forest\n",
      "Accuracy: 0.715\n"
     ]
    }
   ],
   "source": [
    "evaluate(dataset=\"imdb_binary\", classifier='random_forest', baseline='ldp', hyperparams=HYPERPARAMS)"
   ]
  },
  {
   "cell_type": "code",
   "execution_count": 15,
   "metadata": {},
   "outputs": [
    {
     "name": "stdout",
     "output_type": "stream",
     "text": [
      "Loading graph from dataset imdb_binary\n",
      "#\n",
      "#\n",
      "#\n",
      "#\n",
      "#\n",
      "#\n",
      "#\n",
      "#\n",
      "#\n",
      "#\n",
      "#\n",
      "#\n",
      "#\n",
      "#\n",
      "#\n",
      "#\n",
      "#\n",
      "#\n",
      "#\n",
      "#\n",
      "imdb_binary\n",
      "Evaluating with SVM\n",
      "[0.64 0.61 0.61 0.61 0.69 0.64 0.67 0.64 0.65 0.64]\n",
      "[0.65 0.66 0.63 0.57 0.71 0.59 0.63 0.65 0.64 0.66]\n",
      "[0.7  0.53 0.68 0.69 0.64 0.6  0.68 0.66 0.62 0.65]\n",
      "[0.64 0.71 0.65 0.59 0.68 0.62 0.65 0.68 0.62 0.58]\n",
      "[0.69 0.66 0.65 0.66 0.7  0.66 0.59 0.61 0.6  0.63]\n",
      "[0.71 0.66 0.65 0.6  0.62 0.55 0.65 0.72 0.59 0.63]\n",
      "[0.54 0.59 0.65 0.61 0.64 0.67 0.72 0.73 0.66 0.62]\n",
      "[0.71 0.58 0.7  0.63 0.58 0.63 0.66 0.59 0.7  0.61]\n",
      "[0.66 0.67 0.55 0.67 0.63 0.6  0.73 0.57 0.66 0.69]\n",
      "[0.61 0.53 0.62 0.67 0.75 0.71 0.63 0.65 0.63 0.6 ]\n",
      "mean is 0.6414, std is 0.002416609194718913 \n",
      "'evaluate_svm'  118.57 s\n"
     ]
    }
   ],
   "source": [
    "evaluate(dataset=\"imdb_binary\", classifier='svm', baseline='graph_invariants', hyperparams=HYPERPARAMS)"
   ]
  },
  {
   "cell_type": "code",
   "execution_count": 10,
   "metadata": {},
   "outputs": [
    {
     "name": "stdout",
     "output_type": "stream",
     "text": [
      "READ GRAPH\n",
      "GRAPH READED\n",
      "#\n",
      "#\n",
      "#\n",
      "#\n",
      "#\n",
      "#\n",
      "#\n",
      "#\n",
      "#\n",
      "#\n",
      "#\n",
      "#\n",
      "#\n",
      "#\n",
      "#\n",
      "#\n",
      "#\n",
      "#\n",
      "#\n",
      "#\n",
      "Number of bins are 30\n",
      "the shape after removing zero columns is  (1000, 145)\n",
      "Evaluating with Random Forest\n",
      "Accuracy: 0.725\n"
     ]
    }
   ],
   "source": [
    "evaluate(dataset=\"IMDB-BINARY\", classifier='random_forest', baseline='ldp', hyperparams=HYPERPARAMS)"
   ]
  }
 ],
 "metadata": {
  "colab": {
   "provenance": []
  },
  "kernelspec": {
   "display_name": "Python 3 (ipykernel)",
   "language": "python",
   "name": "python3"
  },
  "language_info": {
   "codemirror_mode": {
    "name": "ipython",
    "version": 3
   },
   "file_extension": ".py",
   "mimetype": "text/x-python",
   "name": "python",
   "nbconvert_exporter": "python",
   "pygments_lexer": "ipython3",
   "version": "3.10.6"
  }
 },
 "nbformat": 4,
 "nbformat_minor": 1
}
